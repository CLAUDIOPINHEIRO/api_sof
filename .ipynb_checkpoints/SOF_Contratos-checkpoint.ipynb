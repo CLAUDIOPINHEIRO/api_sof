{
 "cells": [
  {
   "cell_type": "markdown",
   "metadata": {},
   "source": [
    "# Explorando os contratos da cidade de São Paulo"
   ]
  },
  {
   "cell_type": "markdown",
   "metadata": {},
   "source": [
    "Na [primeira parte](https://github.com/campagnucci/api_sof/blob/master/SOF_Execucao_Orcamentaria_PMSP.ipynb) deste tutorial, procurei mostrar como:\n",
    "1. Fazer o cadastro na API do SOF\n",
    "2. Acessar os registros de empenhos (a execução orçamentária)\n",
    "3. Utilizar o Pandas para explorar algumas análises\n",
    "4. Fazer download da base em CSV"
   ]
  },
  {
   "cell_type": "markdown",
   "metadata": {},
   "source": [
    "Neste segundo tutorial, vamos focar em outra consulta disponível na mesma API: os **contratos**. \n",
    "\n",
    "A Prefeitura de São Paulo ainda não dispõe de um sistema centralizado para gestão de contratos (existe um em implementação). \n",
    "\n",
    "A **boa notícia** é que, com relação a contratos, se pode considerar uma das cidades mais transparentes do Brasil por ser uma das poucas a disponibilizar os termos de seus contratos e convênios na íntegra, desde 2014, [nesta página](http://transparencia.prefeitura.sp.gov.br/contas/Paginas/Contratos-v2.aspx) do Portal da Transparência. Com o Marco Regulatório da Sociedade Civil, vigente a partir deste ano, também começam a aparecer por lá os Termos de Cooperação (sem transferência de recursos) que antes não eram publicados.Também as doações começaram a aparecer aí. \n",
    "\n",
    "A **má notícia** é que nessa base do Portal você consegue extrair as informações publicadas em Diário Oficial, mas pode haver inconsistências (geradas por erros de publicação no D.O.). Às vezes há duplicidade, republicação, valores equivocados (pois são digitados manualmente na hora de publicar).   \n",
    "\n",
    "Por isso, podemos considerar que o registro mais confiável que há sobre a execução dos contratos é o do próprio sistema de Execução Orçamentária (o SOF), uma vez que é necessário cadastrar os contratos para realizar os pagamentos. E é daí a relevância desta API.\n",
    "\n",
    "*Importante!*\n",
    "\n",
    "A diferença com relação ao que está no Portal da Transparência é que os contratos não são imediatamente cadastrados no SOF (ele passa a existir no sistema apenas quando é gerado empenho vinculado a ele). Por isso, se quiser tratar no universo inteiro de contratos e não apenas da execução orçamentária, recomendo o 'double check' com a base do [Portal da Transparência](http://transparencia.prefeitura.sp.gov.br/contas/Paginas/Contratos-v2.aspx)."
   ]
  },
  {
   "cell_type": "markdown",
   "metadata": {},
   "source": [
    "## Passo 1. Consulta à API"
   ]
  },
  {
   "cell_type": "markdown",
   "metadata": {},
   "source": [
    "Seguiremos os passos detalhados no tutorial anterior para acessar essa consulta na API e utilizar o Pandas para montar um DataFrame. "
   ]
  },
  {
   "cell_type": "code",
   "execution_count": 1,
   "metadata": {
    "collapsed": true
   },
   "outputs": [],
   "source": [
    "import pandas as pd\n",
    "import requests\n",
    "import json\n",
    "import numpy as np"
   ]
  },
  {
   "cell_type": "code",
   "execution_count": 2,
   "metadata": {
    "collapsed": true
   },
   "outputs": [],
   "source": [
    "TOKEN = '198f959a5f39a1c441c7c863423264'\n",
    "base_url = \"https://gatewayapi.prodam.sp.gov.br:443/financas/orcamento/sof/v2.1.0\"\n",
    "headers={'Authorization' : str('Bearer ' + TOKEN)}"
   ]
  },
  {
   "cell_type": "markdown",
   "metadata": {},
   "source": [
    "### Um parêntesis! Como saber qual é o código do órgão que quero pesquisar?"
   ]
  },
  {
   "cell_type": "markdown",
   "metadata": {},
   "source": [
    "Na consulta anterior, eu indiquei que o Código da Educação no Orçamento, por exemplo, é **16**; o Fundo Municipal de Saúde, **84**. Quem mexe com o orçamento, acaba se acostumando com os números. Mas como saber o código de todas as secretarias e empresas municipais? Existe uma consulta específica para isso na API, que você pode fazer lá no próprio console. Mas vamos trazer essa tabela para cá, para facilitar:"
   ]
  },
  {
   "cell_type": "code",
   "execution_count": 3,
   "metadata": {
    "collapsed": true
   },
   "outputs": [],
   "source": [
    "url_orgaos = '{base_url}/consultarOrgaos?anoExercicio=2017'.format(base_url=base_url)"
   ]
  },
  {
   "cell_type": "code",
   "execution_count": 4,
   "metadata": {
    "collapsed": true
   },
   "outputs": [],
   "source": [
    "request_orgaos = requests.get(url_orgaos,\n",
    "                                headers=headers,\n",
    "                                verify=True).json()"
   ]
  },
  {
   "cell_type": "code",
   "execution_count": 5,
   "metadata": {
    "collapsed": true
   },
   "outputs": [],
   "source": [
    "df_orgaos = pd.DataFrame(request_orgaos['lstOrgaos'])"
   ]
  },
  {
   "cell_type": "code",
   "execution_count": 6,
   "metadata": {},
   "outputs": [
    {
     "data": {
      "text/html": [
       "<div>\n",
       "<style>\n",
       "    .dataframe thead tr:only-child th {\n",
       "        text-align: right;\n",
       "    }\n",
       "\n",
       "    .dataframe thead th {\n",
       "        text-align: left;\n",
       "    }\n",
       "\n",
       "    .dataframe tbody tr th {\n",
       "        vertical-align: top;\n",
       "    }\n",
       "</style>\n",
       "<table border=\"1\" class=\"dataframe\">\n",
       "  <thead>\n",
       "    <tr style=\"text-align: right;\">\n",
       "      <th></th>\n",
       "      <th>codOrgao</th>\n",
       "      <th>txtDescricaoOrgao</th>\n",
       "    </tr>\n",
       "  </thead>\n",
       "  <tbody>\n",
       "    <tr>\n",
       "      <th>0</th>\n",
       "      <td>01</td>\n",
       "      <td>Autarquia Hospitalar Municipal</td>\n",
       "    </tr>\n",
       "    <tr>\n",
       "      <th>1</th>\n",
       "      <td>02</td>\n",
       "      <td>Hospital do Servidor Público Municipal</td>\n",
       "    </tr>\n",
       "    <tr>\n",
       "      <th>2</th>\n",
       "      <td>03</td>\n",
       "      <td>Instituto de Previdência Municipal de São Paulo</td>\n",
       "    </tr>\n",
       "    <tr>\n",
       "      <th>3</th>\n",
       "      <td>04</td>\n",
       "      <td>Serviço Funerário do Município de São Paulo</td>\n",
       "    </tr>\n",
       "    <tr>\n",
       "      <th>4</th>\n",
       "      <td>05</td>\n",
       "      <td>Autarquia Hospitalar Municipal Regional Leste</td>\n",
       "    </tr>\n",
       "    <tr>\n",
       "      <th>5</th>\n",
       "      <td>06</td>\n",
       "      <td>Autarquia Hospitalar Municipal Regional Sudeste</td>\n",
       "    </tr>\n",
       "    <tr>\n",
       "      <th>6</th>\n",
       "      <td>07</td>\n",
       "      <td>Fundo Municipal de Desenvolvimento Social</td>\n",
       "    </tr>\n",
       "    <tr>\n",
       "      <th>7</th>\n",
       "      <td>08</td>\n",
       "      <td>Fundo Municipal do Idoso</td>\n",
       "    </tr>\n",
       "    <tr>\n",
       "      <th>8</th>\n",
       "      <td>09</td>\n",
       "      <td>Câmara Municipal de São Paulo</td>\n",
       "    </tr>\n",
       "    <tr>\n",
       "      <th>9</th>\n",
       "      <td>10</td>\n",
       "      <td>Tribunal de Contas do Município de São Paulo</td>\n",
       "    </tr>\n",
       "    <tr>\n",
       "      <th>10</th>\n",
       "      <td>11</td>\n",
       "      <td>Secretaria do Governo Municipal</td>\n",
       "    </tr>\n",
       "    <tr>\n",
       "      <th>11</th>\n",
       "      <td>12</td>\n",
       "      <td>SECRETARIA MUNICIPAL DAS PREFEITURAS REGIONAIS</td>\n",
       "    </tr>\n",
       "    <tr>\n",
       "      <th>12</th>\n",
       "      <td>13</td>\n",
       "      <td>Secretaria Municipal de Gestão</td>\n",
       "    </tr>\n",
       "    <tr>\n",
       "      <th>13</th>\n",
       "      <td>14</td>\n",
       "      <td>Secretaria Municipal de Habitação</td>\n",
       "    </tr>\n",
       "    <tr>\n",
       "      <th>14</th>\n",
       "      <td>15</td>\n",
       "      <td>Secretaria Municipal  de Modernização, Gestão ...</td>\n",
       "    </tr>\n",
       "    <tr>\n",
       "      <th>15</th>\n",
       "      <td>16</td>\n",
       "      <td>Secretaria Municipal de Educação</td>\n",
       "    </tr>\n",
       "    <tr>\n",
       "      <th>16</th>\n",
       "      <td>17</td>\n",
       "      <td>Secretaria Municipal da Fazenda</td>\n",
       "    </tr>\n",
       "    <tr>\n",
       "      <th>17</th>\n",
       "      <td>18</td>\n",
       "      <td>Secretaria Municipal da Saúde</td>\n",
       "    </tr>\n",
       "    <tr>\n",
       "      <th>18</th>\n",
       "      <td>19</td>\n",
       "      <td>SECRETARIA MUNICPAL DE ESPORTES E LAZER</td>\n",
       "    </tr>\n",
       "    <tr>\n",
       "      <th>19</th>\n",
       "      <td>20</td>\n",
       "      <td>SECRETARIA MUNICIPAL DE MOBILIDADE E TRANSPORTES</td>\n",
       "    </tr>\n",
       "    <tr>\n",
       "      <th>20</th>\n",
       "      <td>21</td>\n",
       "      <td>PROCURADORIA GERAL DO MUNICIPIO DE SÃO PAULO</td>\n",
       "    </tr>\n",
       "    <tr>\n",
       "      <th>21</th>\n",
       "      <td>22</td>\n",
       "      <td>SECRETARIA MUNICIPAL DE SERVIÇOS E OBRAS</td>\n",
       "    </tr>\n",
       "    <tr>\n",
       "      <th>22</th>\n",
       "      <td>23</td>\n",
       "      <td>SECRETARIA MUNICIPAL DE INOVAÇÃO E TECNOLOGIA</td>\n",
       "    </tr>\n",
       "    <tr>\n",
       "      <th>23</th>\n",
       "      <td>24</td>\n",
       "      <td>Secretaria Municipal de Assistência e Desenvol...</td>\n",
       "    </tr>\n",
       "    <tr>\n",
       "      <th>24</th>\n",
       "      <td>25</td>\n",
       "      <td>Secretaria Municipal de Cultura</td>\n",
       "    </tr>\n",
       "    <tr>\n",
       "      <th>25</th>\n",
       "      <td>26</td>\n",
       "      <td>Secretaria Municipal de Abastecimento</td>\n",
       "    </tr>\n",
       "    <tr>\n",
       "      <th>26</th>\n",
       "      <td>27</td>\n",
       "      <td>Secretaria Municipal do Verde e do Meio Ambiente</td>\n",
       "    </tr>\n",
       "    <tr>\n",
       "      <th>27</th>\n",
       "      <td>28</td>\n",
       "      <td>Encargos Gerais do Município</td>\n",
       "    </tr>\n",
       "    <tr>\n",
       "      <th>28</th>\n",
       "      <td>29</td>\n",
       "      <td>Secretaria Municipal de Comunicação</td>\n",
       "    </tr>\n",
       "    <tr>\n",
       "      <th>29</th>\n",
       "      <td>30</td>\n",
       "      <td>SECRETARIA MUNICIPAL DE TRABALHO E EMPREENDEDO...</td>\n",
       "    </tr>\n",
       "    <tr>\n",
       "      <th>...</th>\n",
       "      <td>...</td>\n",
       "      <td>...</td>\n",
       "    </tr>\n",
       "    <tr>\n",
       "      <th>68</th>\n",
       "      <td>69</td>\n",
       "      <td>PREFEITURA REGIONAL DE VILA PRUDENTE</td>\n",
       "    </tr>\n",
       "    <tr>\n",
       "      <th>69</th>\n",
       "      <td>70</td>\n",
       "      <td>PREFEITURA REGIONAL SÃO MATEUS</td>\n",
       "    </tr>\n",
       "    <tr>\n",
       "      <th>70</th>\n",
       "      <td>71</td>\n",
       "      <td>PREFEITURA REGIONAL CIDADE TIRADENTES</td>\n",
       "    </tr>\n",
       "    <tr>\n",
       "      <th>71</th>\n",
       "      <td>72</td>\n",
       "      <td>PREFEITURA REGIONAL SAPOPEMBA</td>\n",
       "    </tr>\n",
       "    <tr>\n",
       "      <th>72</th>\n",
       "      <td>74</td>\n",
       "      <td>Secretaria Municipal de Comunicação e Informaç...</td>\n",
       "    </tr>\n",
       "    <tr>\n",
       "      <th>73</th>\n",
       "      <td>75</td>\n",
       "      <td>Fundo Municipal de Parques</td>\n",
       "    </tr>\n",
       "    <tr>\n",
       "      <th>74</th>\n",
       "      <td>76</td>\n",
       "      <td>Fundo Especial de Despesas da Câmara Municipal...</td>\n",
       "    </tr>\n",
       "    <tr>\n",
       "      <th>75</th>\n",
       "      <td>77</td>\n",
       "      <td>Fundo Especial de Despesas do Tribunal de Contas</td>\n",
       "    </tr>\n",
       "    <tr>\n",
       "      <th>76</th>\n",
       "      <td>78</td>\n",
       "      <td>Secretaria Municipal de Licenciamento</td>\n",
       "    </tr>\n",
       "    <tr>\n",
       "      <th>77</th>\n",
       "      <td>79</td>\n",
       "      <td>Secretaria Municipal de Políticas para as Mulh...</td>\n",
       "    </tr>\n",
       "    <tr>\n",
       "      <th>78</th>\n",
       "      <td>80</td>\n",
       "      <td>FUNDAÇÃO PAULISTANA DE EDUCAÇÃO, TECNOLOGIA E ...</td>\n",
       "    </tr>\n",
       "    <tr>\n",
       "      <th>79</th>\n",
       "      <td>81</td>\n",
       "      <td>Autoridade Municipal de Limpeza Urbana</td>\n",
       "    </tr>\n",
       "    <tr>\n",
       "      <th>80</th>\n",
       "      <td>82</td>\n",
       "      <td>FUNDAÇÃO CATAVENTO</td>\n",
       "    </tr>\n",
       "    <tr>\n",
       "      <th>81</th>\n",
       "      <td>83</td>\n",
       "      <td>Companhia Metropolitana de Habitação de São Paulo</td>\n",
       "    </tr>\n",
       "    <tr>\n",
       "      <th>82</th>\n",
       "      <td>84</td>\n",
       "      <td>FUNDO MUNICIPAL DE SAÚDE</td>\n",
       "    </tr>\n",
       "    <tr>\n",
       "      <th>83</th>\n",
       "      <td>85</td>\n",
       "      <td>Fundação Theatro Municipal de São Paulo</td>\n",
       "    </tr>\n",
       "    <tr>\n",
       "      <th>84</th>\n",
       "      <td>86</td>\n",
       "      <td>Fundo Municipal de Saneamento Ambiental e Infr...</td>\n",
       "    </tr>\n",
       "    <tr>\n",
       "      <th>85</th>\n",
       "      <td>87</td>\n",
       "      <td>Fundo Municipal de Desenvolvimento de Trânsito</td>\n",
       "    </tr>\n",
       "    <tr>\n",
       "      <th>86</th>\n",
       "      <td>88</td>\n",
       "      <td>Fundo de Preservação do Patrimônio Histórico e...</td>\n",
       "    </tr>\n",
       "    <tr>\n",
       "      <th>87</th>\n",
       "      <td>89</td>\n",
       "      <td>Fundo Municipal de Esportes, Lazer e Recreação</td>\n",
       "    </tr>\n",
       "    <tr>\n",
       "      <th>88</th>\n",
       "      <td>90</td>\n",
       "      <td>Fundo Municipal dos Direitos da Criança e do A...</td>\n",
       "    </tr>\n",
       "    <tr>\n",
       "      <th>89</th>\n",
       "      <td>91</td>\n",
       "      <td>Fundo Municipal de Habitação</td>\n",
       "    </tr>\n",
       "    <tr>\n",
       "      <th>90</th>\n",
       "      <td>92</td>\n",
       "      <td>Fundo Mun. do Sist. dos Corredores Segregados ...</td>\n",
       "    </tr>\n",
       "    <tr>\n",
       "      <th>91</th>\n",
       "      <td>93</td>\n",
       "      <td>Fundo Municipal de Assistência Social</td>\n",
       "    </tr>\n",
       "    <tr>\n",
       "      <th>92</th>\n",
       "      <td>94</td>\n",
       "      <td>Fundo Especial do Meio Ambiente e Desenvolvime...</td>\n",
       "    </tr>\n",
       "    <tr>\n",
       "      <th>93</th>\n",
       "      <td>95</td>\n",
       "      <td>Fundo Especial de Promoção de Atividades Cultu...</td>\n",
       "    </tr>\n",
       "    <tr>\n",
       "      <th>94</th>\n",
       "      <td>96</td>\n",
       "      <td>Fundo Municipal de Turismo</td>\n",
       "    </tr>\n",
       "    <tr>\n",
       "      <th>95</th>\n",
       "      <td>97</td>\n",
       "      <td>Fundo de Proteção do Patrimônio Cultural e Amb...</td>\n",
       "    </tr>\n",
       "    <tr>\n",
       "      <th>96</th>\n",
       "      <td>98</td>\n",
       "      <td>Fundo de Desenvolvimento Urbano</td>\n",
       "    </tr>\n",
       "    <tr>\n",
       "      <th>97</th>\n",
       "      <td>99</td>\n",
       "      <td>Fundo Municipal de Iluminação Pública</td>\n",
       "    </tr>\n",
       "  </tbody>\n",
       "</table>\n",
       "<p>98 rows × 2 columns</p>\n",
       "</div>"
      ],
      "text/plain": [
       "   codOrgao                                  txtDescricaoOrgao\n",
       "0        01                     Autarquia Hospitalar Municipal\n",
       "1        02             Hospital do Servidor Público Municipal\n",
       "2        03    Instituto de Previdência Municipal de São Paulo\n",
       "3        04        Serviço Funerário do Município de São Paulo\n",
       "4        05      Autarquia Hospitalar Municipal Regional Leste\n",
       "5        06    Autarquia Hospitalar Municipal Regional Sudeste\n",
       "6        07          Fundo Municipal de Desenvolvimento Social\n",
       "7        08                           Fundo Municipal do Idoso\n",
       "8        09                      Câmara Municipal de São Paulo\n",
       "9        10       Tribunal de Contas do Município de São Paulo\n",
       "10       11                    Secretaria do Governo Municipal\n",
       "11       12     SECRETARIA MUNICIPAL DAS PREFEITURAS REGIONAIS\n",
       "12       13                     Secretaria Municipal de Gestão\n",
       "13       14                  Secretaria Municipal de Habitação\n",
       "14       15  Secretaria Municipal  de Modernização, Gestão ...\n",
       "15       16                   Secretaria Municipal de Educação\n",
       "16       17                    Secretaria Municipal da Fazenda\n",
       "17       18                      Secretaria Municipal da Saúde\n",
       "18       19            SECRETARIA MUNICPAL DE ESPORTES E LAZER\n",
       "19       20   SECRETARIA MUNICIPAL DE MOBILIDADE E TRANSPORTES\n",
       "20       21       PROCURADORIA GERAL DO MUNICIPIO DE SÃO PAULO\n",
       "21       22           SECRETARIA MUNICIPAL DE SERVIÇOS E OBRAS\n",
       "22       23      SECRETARIA MUNICIPAL DE INOVAÇÃO E TECNOLOGIA\n",
       "23       24  Secretaria Municipal de Assistência e Desenvol...\n",
       "24       25                    Secretaria Municipal de Cultura\n",
       "25       26              Secretaria Municipal de Abastecimento\n",
       "26       27   Secretaria Municipal do Verde e do Meio Ambiente\n",
       "27       28                       Encargos Gerais do Município\n",
       "28       29                Secretaria Municipal de Comunicação\n",
       "29       30  SECRETARIA MUNICIPAL DE TRABALHO E EMPREENDEDO...\n",
       "..      ...                                                ...\n",
       "68       69               PREFEITURA REGIONAL DE VILA PRUDENTE\n",
       "69       70                     PREFEITURA REGIONAL SÃO MATEUS\n",
       "70       71              PREFEITURA REGIONAL CIDADE TIRADENTES\n",
       "71       72                      PREFEITURA REGIONAL SAPOPEMBA\n",
       "72       74  Secretaria Municipal de Comunicação e Informaç...\n",
       "73       75                         Fundo Municipal de Parques\n",
       "74       76  Fundo Especial de Despesas da Câmara Municipal...\n",
       "75       77  Fundo Especial de Despesas do Tribunal de Contas \n",
       "76       78              Secretaria Municipal de Licenciamento\n",
       "77       79  Secretaria Municipal de Políticas para as Mulh...\n",
       "78       80  FUNDAÇÃO PAULISTANA DE EDUCAÇÃO, TECNOLOGIA E ...\n",
       "79       81             Autoridade Municipal de Limpeza Urbana\n",
       "80       82                                 FUNDAÇÃO CATAVENTO\n",
       "81       83  Companhia Metropolitana de Habitação de São Paulo\n",
       "82       84                           FUNDO MUNICIPAL DE SAÚDE\n",
       "83       85            Fundação Theatro Municipal de São Paulo\n",
       "84       86  Fundo Municipal de Saneamento Ambiental e Infr...\n",
       "85       87     Fundo Municipal de Desenvolvimento de Trânsito\n",
       "86       88  Fundo de Preservação do Patrimônio Histórico e...\n",
       "87       89     Fundo Municipal de Esportes, Lazer e Recreação\n",
       "88       90  Fundo Municipal dos Direitos da Criança e do A...\n",
       "89       91                       Fundo Municipal de Habitação\n",
       "90       92  Fundo Mun. do Sist. dos Corredores Segregados ...\n",
       "91       93              Fundo Municipal de Assistência Social\n",
       "92       94  Fundo Especial do Meio Ambiente e Desenvolvime...\n",
       "93       95  Fundo Especial de Promoção de Atividades Cultu...\n",
       "94       96                         Fundo Municipal de Turismo\n",
       "95       97  Fundo de Proteção do Patrimônio Cultural e Amb...\n",
       "96       98                    Fundo de Desenvolvimento Urbano\n",
       "97       99              Fundo Municipal de Iluminação Pública\n",
       "\n",
       "[98 rows x 2 columns]"
      ]
     },
     "execution_count": 6,
     "metadata": {},
     "output_type": "execute_result"
    }
   ],
   "source": [
    "df_orgaos"
   ]
  },
  {
   "cell_type": "markdown",
   "metadata": {},
   "source": [
    "**Atenção para uma distinção conceitual importante**!\n",
    "\n",
    "* ÓRGÃO = Administração Direta (Prefeituras Regionais, Secretarias)\n",
    "* EMPRESA = Administração Indireta (Fundações, Empresas Públicas)\n",
    "\n",
    "Os campos na consulta da API são diferentes. Então se você inserir o Código da Prodam (uma empresa pública) no Campo Órgão, por exemplo, a consulta vai retornar 0 Registros.  "
   ]
  },
  {
   "cell_type": "markdown",
   "metadata": {},
   "source": [
    "### Pronto, aí temos a lista completa. Fecha parêntesis!"
   ]
  },
  {
   "cell_type": "markdown",
   "metadata": {},
   "source": [
    "Seguindo, vamos fazer a consulta dos contratos da Secretaria do Verde e Meio Ambiente -- Órgão **27**, conforme a lista acima."
   ]
  },
  {
   "cell_type": "code",
   "execution_count": 7,
   "metadata": {
    "collapsed": true
   },
   "outputs": [],
   "source": [
    "url_contratos = '{base_url}/consultaContrato?anoContrato=2017&codOrgao=27'.format(base_url=base_url)"
   ]
  },
  {
   "cell_type": "code",
   "execution_count": 8,
   "metadata": {
    "collapsed": true
   },
   "outputs": [],
   "source": [
    "request_contratos = requests.get(url_contratos,\n",
    "                                headers=headers,\n",
    "                                verify=True).json()"
   ]
  },
  {
   "cell_type": "code",
   "execution_count": 9,
   "metadata": {
    "collapsed": true
   },
   "outputs": [],
   "source": [
    "number_of_pages = request_contratos['metadados']['qtdPaginas']\n",
    "\n",
    "todos_contratos = []\n",
    "todos_contratos = todos_contratos + request_contratos['lstContratos']\n",
    "if number_of_pages>1:\n",
    "    for p in range(2, number_of_pages+1):\n",
    "        request_contratos = requests.get(url_contratos + pagination.format(PAGE=p), headers=headers, verify=True).json()\n",
    "        todos_contratos = todos_contratos + request_contratos['lstContratos']"
   ]
  },
  {
   "cell_type": "markdown",
   "metadata": {},
   "source": [
    "## Passo 2. Mãos ao Pandas!"
   ]
  },
  {
   "cell_type": "code",
   "execution_count": 10,
   "metadata": {
    "collapsed": true
   },
   "outputs": [],
   "source": [
    "df_contratos = pd.DataFrame(todos_contratos)"
   ]
  },
  {
   "cell_type": "markdown",
   "metadata": {},
   "source": [
    "Vamos checar como ficou nossa base de dados de contratos, mostrando os últimos 5 registros:"
   ]
  },
  {
   "cell_type": "code",
   "execution_count": 11,
   "metadata": {},
   "outputs": [
    {
     "data": {
      "text/html": [
       "<div>\n",
       "<style>\n",
       "    .dataframe thead tr:only-child th {\n",
       "        text-align: right;\n",
       "    }\n",
       "\n",
       "    .dataframe thead th {\n",
       "        text-align: left;\n",
       "    }\n",
       "\n",
       "    .dataframe tbody tr th {\n",
       "        vertical-align: top;\n",
       "    }\n",
       "</style>\n",
       "<table border=\"1\" class=\"dataframe\">\n",
       "  <thead>\n",
       "    <tr style=\"text-align: right;\">\n",
       "      <th></th>\n",
       "      <th>anoContrato</th>\n",
       "      <th>codContrato</th>\n",
       "      <th>codEmpresa</th>\n",
       "      <th>codEvento</th>\n",
       "      <th>codModalidade</th>\n",
       "      <th>codOrgao</th>\n",
       "      <th>codTipoContratacao</th>\n",
       "      <th>datAssinaturaContrato</th>\n",
       "      <th>datPublicacaoContrato</th>\n",
       "      <th>datVigencia</th>\n",
       "      <th>...</th>\n",
       "      <th>txtTipoContratacao</th>\n",
       "      <th>valAditamentos</th>\n",
       "      <th>valAnulacao</th>\n",
       "      <th>valAnuladoEmpenho</th>\n",
       "      <th>valEmpenhadoLiquido</th>\n",
       "      <th>valLiquidado</th>\n",
       "      <th>valPago</th>\n",
       "      <th>valPrincipal</th>\n",
       "      <th>valReajustes</th>\n",
       "      <th>valTotalEmpenhado</th>\n",
       "    </tr>\n",
       "  </thead>\n",
       "  <tbody>\n",
       "    <tr>\n",
       "      <th>75</th>\n",
       "      <td>2017</td>\n",
       "      <td>3487</td>\n",
       "      <td>01</td>\n",
       "      <td>None</td>\n",
       "      <td>6</td>\n",
       "      <td>27</td>\n",
       "      <td>5</td>\n",
       "      <td>None</td>\n",
       "      <td>None</td>\n",
       "      <td>12/04/2017</td>\n",
       "      <td>...</td>\n",
       "      <td>Nota de Empenho</td>\n",
       "      <td>0</td>\n",
       "      <td>0</td>\n",
       "      <td>0.0</td>\n",
       "      <td>1896.0</td>\n",
       "      <td>1896.00</td>\n",
       "      <td>1896.00</td>\n",
       "      <td>1896.0</td>\n",
       "      <td>0</td>\n",
       "      <td>1896.0</td>\n",
       "    </tr>\n",
       "    <tr>\n",
       "      <th>76</th>\n",
       "      <td>2017</td>\n",
       "      <td>2259</td>\n",
       "      <td>01</td>\n",
       "      <td>None</td>\n",
       "      <td>8</td>\n",
       "      <td>27</td>\n",
       "      <td>5</td>\n",
       "      <td>None</td>\n",
       "      <td>None</td>\n",
       "      <td>31/12/2017</td>\n",
       "      <td>...</td>\n",
       "      <td>Nota de Empenho</td>\n",
       "      <td>0</td>\n",
       "      <td>0</td>\n",
       "      <td>0.0</td>\n",
       "      <td>1000.0</td>\n",
       "      <td>0.00</td>\n",
       "      <td>0.00</td>\n",
       "      <td>1000.0</td>\n",
       "      <td>0</td>\n",
       "      <td>1000.0</td>\n",
       "    </tr>\n",
       "    <tr>\n",
       "      <th>77</th>\n",
       "      <td>2017</td>\n",
       "      <td>2216</td>\n",
       "      <td>01</td>\n",
       "      <td>None</td>\n",
       "      <td>6</td>\n",
       "      <td>27</td>\n",
       "      <td>5</td>\n",
       "      <td>None</td>\n",
       "      <td>None</td>\n",
       "      <td>15/03/2017</td>\n",
       "      <td>...</td>\n",
       "      <td>Nota de Empenho</td>\n",
       "      <td>0</td>\n",
       "      <td>0</td>\n",
       "      <td>0.0</td>\n",
       "      <td>2565.0</td>\n",
       "      <td>2565.00</td>\n",
       "      <td>2565.00</td>\n",
       "      <td>2565.0</td>\n",
       "      <td>0</td>\n",
       "      <td>2565.0</td>\n",
       "    </tr>\n",
       "    <tr>\n",
       "      <th>78</th>\n",
       "      <td>2017</td>\n",
       "      <td>2221</td>\n",
       "      <td>01</td>\n",
       "      <td>None</td>\n",
       "      <td>8</td>\n",
       "      <td>27</td>\n",
       "      <td>5</td>\n",
       "      <td>None</td>\n",
       "      <td>None</td>\n",
       "      <td>31/12/2017</td>\n",
       "      <td>...</td>\n",
       "      <td>Nota de Empenho</td>\n",
       "      <td>0</td>\n",
       "      <td>0</td>\n",
       "      <td>0.0</td>\n",
       "      <td>7500.0</td>\n",
       "      <td>1878.26</td>\n",
       "      <td>1878.26</td>\n",
       "      <td>7500.0</td>\n",
       "      <td>0</td>\n",
       "      <td>7500.0</td>\n",
       "    </tr>\n",
       "    <tr>\n",
       "      <th>79</th>\n",
       "      <td>2017</td>\n",
       "      <td>196</td>\n",
       "      <td>01</td>\n",
       "      <td>None</td>\n",
       "      <td>6</td>\n",
       "      <td>27</td>\n",
       "      <td>5</td>\n",
       "      <td>None</td>\n",
       "      <td>None</td>\n",
       "      <td>31/12/2017</td>\n",
       "      <td>...</td>\n",
       "      <td>Nota de Empenho</td>\n",
       "      <td>0</td>\n",
       "      <td>0</td>\n",
       "      <td>0.0</td>\n",
       "      <td>2232.0</td>\n",
       "      <td>413.42</td>\n",
       "      <td>413.42</td>\n",
       "      <td>2232.0</td>\n",
       "      <td>0</td>\n",
       "      <td>2232.0</td>\n",
       "    </tr>\n",
       "  </tbody>\n",
       "</table>\n",
       "<p>5 rows × 25 columns</p>\n",
       "</div>"
      ],
      "text/plain": [
       "    anoContrato  codContrato codEmpresa codEvento  codModalidade codOrgao  \\\n",
       "75         2017         3487         01      None              6       27   \n",
       "76         2017         2259         01      None              8       27   \n",
       "77         2017         2216         01      None              6       27   \n",
       "78         2017         2221         01      None              8       27   \n",
       "79         2017          196         01      None              6       27   \n",
       "\n",
       "    codTipoContratacao datAssinaturaContrato datPublicacaoContrato  \\\n",
       "75                   5                  None                  None   \n",
       "76                   5                  None                  None   \n",
       "77                   5                  None                  None   \n",
       "78                   5                  None                  None   \n",
       "79                   5                  None                  None   \n",
       "\n",
       "   datVigencia        ...         txtTipoContratacao valAditamentos  \\\n",
       "75  12/04/2017        ...            Nota de Empenho              0   \n",
       "76  31/12/2017        ...            Nota de Empenho              0   \n",
       "77  15/03/2017        ...            Nota de Empenho              0   \n",
       "78  31/12/2017        ...            Nota de Empenho              0   \n",
       "79  31/12/2017        ...            Nota de Empenho              0   \n",
       "\n",
       "   valAnulacao valAnuladoEmpenho valEmpenhadoLiquido valLiquidado  valPago  \\\n",
       "75           0               0.0              1896.0      1896.00  1896.00   \n",
       "76           0               0.0              1000.0         0.00     0.00   \n",
       "77           0               0.0              2565.0      2565.00  2565.00   \n",
       "78           0               0.0              7500.0      1878.26  1878.26   \n",
       "79           0               0.0              2232.0       413.42   413.42   \n",
       "\n",
       "    valPrincipal  valReajustes  valTotalEmpenhado  \n",
       "75        1896.0             0             1896.0  \n",
       "76        1000.0             0             1000.0  \n",
       "77        2565.0             0             2565.0  \n",
       "78        7500.0             0             7500.0  \n",
       "79        2232.0             0             2232.0  \n",
       "\n",
       "[5 rows x 25 columns]"
      ]
     },
     "execution_count": 11,
     "metadata": {},
     "output_type": "execute_result"
    }
   ],
   "source": [
    "df_contratos.tail()"
   ]
  },
  {
   "cell_type": "markdown",
   "metadata": {},
   "source": [
    "São muitas as colunas dessa consulta (a visualização acima omite algumas). Vamos checar quais são:"
   ]
  },
  {
   "cell_type": "code",
   "execution_count": 12,
   "metadata": {},
   "outputs": [
    {
     "data": {
      "text/plain": [
       "['anoContrato',\n",
       " 'codContrato',\n",
       " 'codEmpresa',\n",
       " 'codEvento',\n",
       " 'codModalidade',\n",
       " 'codOrgao',\n",
       " 'codTipoContratacao',\n",
       " 'datAssinaturaContrato',\n",
       " 'datPublicacaoContrato',\n",
       " 'datVigencia',\n",
       " 'numOriginalContrato',\n",
       " 'txtDescricaoModalidade',\n",
       " 'txtDescricaoOrgao',\n",
       " 'txtObjetoContrato',\n",
       " 'txtRazaoSocial',\n",
       " 'txtTipoContratacao',\n",
       " 'valAditamentos',\n",
       " 'valAnulacao',\n",
       " 'valAnuladoEmpenho',\n",
       " 'valEmpenhadoLiquido',\n",
       " 'valLiquidado',\n",
       " 'valPago',\n",
       " 'valPrincipal',\n",
       " 'valReajustes',\n",
       " 'valTotalEmpenhado']"
      ]
     },
     "execution_count": 12,
     "metadata": {},
     "output_type": "execute_result"
    }
   ],
   "source": [
    "list(df_contratos)"
   ]
  },
  {
   "cell_type": "code",
   "execution_count": 13,
   "metadata": {
    "collapsed": true
   },
   "outputs": [],
   "source": [
    "df_contratos.to_csv('contratos_verde.csv')"
   ]
  },
  {
   "cell_type": "markdown",
   "metadata": {},
   "source": [
    "Vamos remover o txtRazaoSocial, para não nos atrapalhar mais tarde (vamos obter o dado de outro local). Esta consulta não retorna o nome das empresas contratadas, mas \"PREFEITURA DE SÃO PAULO\" para todos os valores -- provavelmente um erro da API."
   ]
  },
  {
   "cell_type": "code",
   "execution_count": 14,
   "metadata": {
    "collapsed": true
   },
   "outputs": [],
   "source": [
    "df_contratos.drop('txtRazaoSocial', axis=1, inplace=True)"
   ]
  },
  {
   "cell_type": "markdown",
   "metadata": {},
   "source": [
    "### Cruzando as bases"
   ]
  },
  {
   "cell_type": "markdown",
   "metadata": {},
   "source": [
    "Infelizmente, a consulta não vem \"pronta\". Vamos precisar cruzar com a base de empenhos do primeiro tutorial para conseguir, por exemplo, saber quais são os credores POR CONTRATO. A imagem abaixo foi exibida durante o lançamento da API, no [Café Hacker](http://cafehacker.prefeitura.sp.gov.br/cafe-hacker-discute-o-orcamento-municipal-e-bate-recorde-de-inscricoes/) da Controladoria Geral do Município e da Secretaria Municipal da Fazenda, e explica como as consultas se relacionam (o 'Simplificada' é por conta deles, hehe): "
   ]
  },
  {
   "cell_type": "markdown",
   "metadata": {},
   "source": [
    "![title](relacionamentos.png)"
   ]
  },
  {
   "cell_type": "markdown",
   "metadata": {},
   "source": [
    "O Código de Contrato é um parâmetro facultativo da consulta de empenhos, mas não vem no retorno de dados (outro possível furo da API, que vamos alertar aos desenvolvedores para tentar corrigir). O que isso significa? Que precisaríamos consultar um a um para obter todos os contratos na lista de empenhos! Felizmente, a programação tá aí pra isso. Vamos criar uma estrutura de repetição semelhante à que fizemos para a paginação:"
   ]
  },
  {
   "cell_type": "code",
   "execution_count": 15,
   "metadata": {
    "collapsed": true
   },
   "outputs": [],
   "source": [
    "url_empenho = '{base_url}/consultaEmpenhos?anoEmpenho=2017&mesEmpenho=08&codOrgao=27'.format(base_url=base_url)\n",
    "num_contrato = '&codContrato={CONTRATO}'"
   ]
  },
  {
   "cell_type": "code",
   "execution_count": 16,
   "metadata": {},
   "outputs": [
    {
     "data": {
      "text/plain": [
       "80"
      ]
     },
     "execution_count": 16,
     "metadata": {},
     "output_type": "execute_result"
    }
   ],
   "source": [
    "lista_contratos = list(df_contratos['codContrato'])\n",
    "len(lista_contratos)"
   ]
  },
  {
   "cell_type": "code",
   "execution_count": 17,
   "metadata": {
    "collapsed": true
   },
   "outputs": [],
   "source": [
    "request_empenhos = requests.get(url_empenho,\n",
    "                                headers=headers,\n",
    "                                verify=True).json()"
   ]
  },
  {
   "cell_type": "code",
   "execution_count": 18,
   "metadata": {
    "collapsed": true
   },
   "outputs": [],
   "source": [
    "def add_codigo_contrato(empenhos, cod_contrato):\n",
    "    \"\"\"\"\"\n",
    "    Adiciona Código de Contrato no dict de cada empenho consultado. \n",
    "    \"\"\"\"\"\n",
    "    for item in empenhos:\n",
    "        item.update({'codContrato': cod_contrato})\n",
    "    return empenhos"
   ]
  },
  {
   "cell_type": "code",
   "execution_count": 19,
   "metadata": {
    "collapsed": true
   },
   "outputs": [],
   "source": [
    "todos_empenhos = []\n",
    "\n",
    "todos_empenhos = todos_empenhos + request_empenhos['lstEmpenhos']\n",
    "\n",
    "for n in lista_contratos:\n",
    "    response = requests.get(url_empenho + num_contrato.format(CONTRATO=n), headers=headers, verify=True).json()\n",
    "    empenhos_c_cod = add_codigo_contrato(response['lstEmpenhos'], n)\n",
    "    todos_empenhos = todos_empenhos + empenhos_c_cod"
   ]
  },
  {
   "cell_type": "code",
   "execution_count": 20,
   "metadata": {
    "collapsed": true
   },
   "outputs": [],
   "source": [
    "df_empenhos_c_contratos = pd.DataFrame(todos_empenhos)"
   ]
  },
  {
   "cell_type": "markdown",
   "metadata": {},
   "source": [
    "Agora já temos o DataFrame que junta todos Empenhos do Verde de 2017 com as informações de Contrato, deixando a base mais rica -- e corrigindo essa falha da falta de Razão Social e CNPJ na consulta de contratos!"
   ]
  },
  {
   "cell_type": "code",
   "execution_count": 25,
   "metadata": {},
   "outputs": [
    {
     "data": {
      "text/html": [
       "<div>\n",
       "<style>\n",
       "    .dataframe thead tr:only-child th {\n",
       "        text-align: right;\n",
       "    }\n",
       "\n",
       "    .dataframe thead th {\n",
       "        text-align: left;\n",
       "    }\n",
       "\n",
       "    .dataframe tbody tr th {\n",
       "        vertical-align: top;\n",
       "    }\n",
       "</style>\n",
       "<table border=\"1\" class=\"dataframe\">\n",
       "  <thead>\n",
       "    <tr style=\"text-align: right;\">\n",
       "      <th></th>\n",
       "      <th>anoEmpenho</th>\n",
       "      <th>codCategoria</th>\n",
       "      <th>codContrato</th>\n",
       "      <th>codElemento</th>\n",
       "      <th>codEmpenho</th>\n",
       "      <th>codEmpresa</th>\n",
       "      <th>codFonteRecurso</th>\n",
       "      <th>codFuncao</th>\n",
       "      <th>codGrupo</th>\n",
       "      <th>codItemDespesa</th>\n",
       "      <th>...</th>\n",
       "      <th>txtDescricaoUnidade</th>\n",
       "      <th>txtGrupoDespesa</th>\n",
       "      <th>txtModalidadeAplicacao</th>\n",
       "      <th>txtRazaoSocial</th>\n",
       "      <th>valAnuladoEmpenho</th>\n",
       "      <th>valEmpenhadoLiquido</th>\n",
       "      <th>valLiquidado</th>\n",
       "      <th>valPagoExercicio</th>\n",
       "      <th>valPagoRestos</th>\n",
       "      <th>valTotalEmpenhado</th>\n",
       "    </tr>\n",
       "  </thead>\n",
       "  <tbody>\n",
       "    <tr>\n",
       "      <th>491</th>\n",
       "      <td>2017</td>\n",
       "      <td>3</td>\n",
       "      <td>3487.0</td>\n",
       "      <td>30</td>\n",
       "      <td>24512</td>\n",
       "      <td>01</td>\n",
       "      <td>00</td>\n",
       "      <td>18</td>\n",
       "      <td>3</td>\n",
       "      <td>99</td>\n",
       "      <td>...</td>\n",
       "      <td>Gabinete do Secretário</td>\n",
       "      <td>Outras Despesas Correntes</td>\n",
       "      <td>Aplicações Diretas</td>\n",
       "      <td>ROSEMARY DA SILVA MENDES -ME</td>\n",
       "      <td>0.0</td>\n",
       "      <td>1896.0</td>\n",
       "      <td>1896.00</td>\n",
       "      <td>1896.00</td>\n",
       "      <td>0</td>\n",
       "      <td>1896.0</td>\n",
       "    </tr>\n",
       "    <tr>\n",
       "      <th>492</th>\n",
       "      <td>2017</td>\n",
       "      <td>3</td>\n",
       "      <td>2259.0</td>\n",
       "      <td>39</td>\n",
       "      <td>16031</td>\n",
       "      <td>01</td>\n",
       "      <td>00</td>\n",
       "      <td>18</td>\n",
       "      <td>3</td>\n",
       "      <td>02</td>\n",
       "      <td>...</td>\n",
       "      <td>Gabinete do Secretário</td>\n",
       "      <td>Outras Despesas Correntes</td>\n",
       "      <td>Aplicações Diretas</td>\n",
       "      <td>SECRETARIA DA FAZENDA</td>\n",
       "      <td>0.0</td>\n",
       "      <td>1000.0</td>\n",
       "      <td>0.00</td>\n",
       "      <td>0.00</td>\n",
       "      <td>0</td>\n",
       "      <td>1000.0</td>\n",
       "    </tr>\n",
       "    <tr>\n",
       "      <th>493</th>\n",
       "      <td>2017</td>\n",
       "      <td>3</td>\n",
       "      <td>2216.0</td>\n",
       "      <td>30</td>\n",
       "      <td>16174</td>\n",
       "      <td>01</td>\n",
       "      <td>00</td>\n",
       "      <td>18</td>\n",
       "      <td>3</td>\n",
       "      <td>99</td>\n",
       "      <td>...</td>\n",
       "      <td>Gabinete do Secretário</td>\n",
       "      <td>Outras Despesas Correntes</td>\n",
       "      <td>Aplicações Diretas</td>\n",
       "      <td>ANILHAS PARA PASSARO E AVES CAPRI INDÚSTRIA E ...</td>\n",
       "      <td>0.0</td>\n",
       "      <td>2565.0</td>\n",
       "      <td>2565.00</td>\n",
       "      <td>2565.00</td>\n",
       "      <td>0</td>\n",
       "      <td>2565.0</td>\n",
       "    </tr>\n",
       "    <tr>\n",
       "      <th>494</th>\n",
       "      <td>2017</td>\n",
       "      <td>3</td>\n",
       "      <td>2221.0</td>\n",
       "      <td>39</td>\n",
       "      <td>15778</td>\n",
       "      <td>01</td>\n",
       "      <td>00</td>\n",
       "      <td>18</td>\n",
       "      <td>3</td>\n",
       "      <td>02</td>\n",
       "      <td>...</td>\n",
       "      <td>Gabinete do Secretário</td>\n",
       "      <td>Outras Despesas Correntes</td>\n",
       "      <td>Aplicações Diretas</td>\n",
       "      <td>SÃO PAULO SECRETARIA MUNICIPAL DE TRANSPORTES</td>\n",
       "      <td>0.0</td>\n",
       "      <td>7500.0</td>\n",
       "      <td>1878.26</td>\n",
       "      <td>1878.26</td>\n",
       "      <td>0</td>\n",
       "      <td>7500.0</td>\n",
       "    </tr>\n",
       "    <tr>\n",
       "      <th>495</th>\n",
       "      <td>2017</td>\n",
       "      <td>3</td>\n",
       "      <td>196.0</td>\n",
       "      <td>39</td>\n",
       "      <td>30</td>\n",
       "      <td>01</td>\n",
       "      <td>00</td>\n",
       "      <td>18</td>\n",
       "      <td>3</td>\n",
       "      <td>01</td>\n",
       "      <td>...</td>\n",
       "      <td>Gabinete do Secretário</td>\n",
       "      <td>Outras Despesas Correntes</td>\n",
       "      <td>Aplicações Diretas</td>\n",
       "      <td>COMPANHIA DE GAS DE SAO PAULO COMGAS</td>\n",
       "      <td>0.0</td>\n",
       "      <td>2232.0</td>\n",
       "      <td>413.42</td>\n",
       "      <td>413.42</td>\n",
       "      <td>0</td>\n",
       "      <td>2232.0</td>\n",
       "    </tr>\n",
       "  </tbody>\n",
       "</table>\n",
       "<p>5 rows × 42 columns</p>\n",
       "</div>"
      ],
      "text/plain": [
       "     anoEmpenho  codCategoria  codContrato codElemento  codEmpenho codEmpresa  \\\n",
       "491        2017             3       3487.0          30       24512         01   \n",
       "492        2017             3       2259.0          39       16031         01   \n",
       "493        2017             3       2216.0          30       16174         01   \n",
       "494        2017             3       2221.0          39       15778         01   \n",
       "495        2017             3        196.0          39          30         01   \n",
       "\n",
       "    codFonteRecurso codFuncao  codGrupo codItemDespesa        ...         \\\n",
       "491              00        18         3             99        ...          \n",
       "492              00        18         3             02        ...          \n",
       "493              00        18         3             99        ...          \n",
       "494              00        18         3             02        ...          \n",
       "495              00        18         3             01        ...          \n",
       "\n",
       "        txtDescricaoUnidade            txtGrupoDespesa txtModalidadeAplicacao  \\\n",
       "491  Gabinete do Secretário  Outras Despesas Correntes     Aplicações Diretas   \n",
       "492  Gabinete do Secretário  Outras Despesas Correntes     Aplicações Diretas   \n",
       "493  Gabinete do Secretário  Outras Despesas Correntes     Aplicações Diretas   \n",
       "494  Gabinete do Secretário  Outras Despesas Correntes     Aplicações Diretas   \n",
       "495  Gabinete do Secretário  Outras Despesas Correntes     Aplicações Diretas   \n",
       "\n",
       "                                        txtRazaoSocial valAnuladoEmpenho  \\\n",
       "491                       ROSEMARY DA SILVA MENDES -ME               0.0   \n",
       "492                              SECRETARIA DA FAZENDA               0.0   \n",
       "493  ANILHAS PARA PASSARO E AVES CAPRI INDÚSTRIA E ...               0.0   \n",
       "494      SÃO PAULO SECRETARIA MUNICIPAL DE TRANSPORTES               0.0   \n",
       "495               COMPANHIA DE GAS DE SAO PAULO COMGAS               0.0   \n",
       "\n",
       "    valEmpenhadoLiquido valLiquidado valPagoExercicio  valPagoRestos  \\\n",
       "491              1896.0      1896.00          1896.00              0   \n",
       "492              1000.0         0.00             0.00              0   \n",
       "493              2565.0      2565.00          2565.00              0   \n",
       "494              7500.0      1878.26          1878.26              0   \n",
       "495              2232.0       413.42           413.42              0   \n",
       "\n",
       "    valTotalEmpenhado  \n",
       "491            1896.0  \n",
       "492            1000.0  \n",
       "493            2565.0  \n",
       "494            7500.0  \n",
       "495            2232.0  \n",
       "\n",
       "[5 rows x 42 columns]"
      ]
     },
     "execution_count": 25,
     "metadata": {},
     "output_type": "execute_result"
    }
   ],
   "source": [
    "df_empenhos_c_contratos.tail()"
   ]
  },
  {
   "cell_type": "markdown",
   "metadata": {},
   "source": [
    "A tabela acima vai ter muitos valores \"Nan\" para codContrato -- pois há 493 empenhos e apenas 80 contratos. Como o interesse agora é só nos contratos, vamos retirar esses casos e montar um novo DataFrame que contém apenas contratos com algum empenho relacionado:"
   ]
  },
  {
   "cell_type": "code",
   "execution_count": 26,
   "metadata": {},
   "outputs": [],
   "source": [
    "df_empenhos_c_contratos = df_empenhos_c_contratos.dropna(axis=0).reset_index(drop=True)"
   ]
  },
  {
   "cell_type": "code",
   "execution_count": 27,
   "metadata": {
    "collapsed": true
   },
   "outputs": [],
   "source": [
    "df_empenhos_c_contratos['codContrato'] = df_empenhos_c_contratos.loc[:,'codContrato'].astype(int)"
   ]
  },
  {
   "cell_type": "markdown",
   "metadata": {},
   "source": [
    "Agora temos duas bases de dados para trabalhar:\n",
    "* df_contratos = Primeira base que extraímos, contém todos os contratos (sem Razão Social ou CNPJ, por limitação da API)\n",
    "* df_empenhos_c_contratos = Base que contém todos os empenhos com código de contrato, depois do cruzamento que fizemos\n",
    "\n",
    "Ambas têm várias colunas em comum. Então, antes de juntá-las, vamos apenas retirar as colunas únicas nas duas, com o método \"difference\":"
   ]
  },
  {
   "cell_type": "code",
   "execution_count": 29,
   "metadata": {},
   "outputs": [],
   "source": [
    "cols_to_use = df_empenhos_c_contratos.columns.difference(df_contratos.columns)"
   ]
  },
  {
   "cell_type": "code",
   "execution_count": 30,
   "metadata": {
    "collapsed": true
   },
   "outputs": [],
   "source": [
    "df_contratos_empenhados = df_contratos.merge(df_empenhos_c_contratos[cols_to_use], left_index=True, right_index=True, how='outer')"
   ]
  },
  {
   "cell_type": "markdown",
   "metadata": {},
   "source": [
    "### 'Top 10' Contratos de 2017"
   ]
  },
  {
   "cell_type": "markdown",
   "metadata": {},
   "source": [
    "Agora com a lista de todos os contratos do ano, vamos montar uma tabela e ordenar os dados pelo *Valor Principal do Contrato*. No Manual da API, aprende-se que esse campo 'valPrincipal'significa o \"Valor do contrato sem ocorrência de reajustamentos, ou aditamentos\"."
   ]
  },
  {
   "cell_type": "code",
   "execution_count": 31,
   "metadata": {},
   "outputs": [
    {
     "data": {
      "text/plain": [
       "Index(['anoContrato', 'codContrato', 'codEmpresa', 'codEvento',\n",
       "       'codModalidade', 'codOrgao', 'codTipoContratacao',\n",
       "       'datAssinaturaContrato', 'datPublicacaoContrato', 'datVigencia',\n",
       "       'numOriginalContrato', 'txtDescricaoModalidade', 'txtDescricaoOrgao',\n",
       "       'txtObjetoContrato', 'txtTipoContratacao', 'valAditamentos',\n",
       "       'valAnulacao', 'valAnuladoEmpenho', 'valEmpenhadoLiquido',\n",
       "       'valLiquidado', 'valPago', 'valPrincipal', 'valReajustes',\n",
       "       'valTotalEmpenhado', 'anoEmpenho', 'codCategoria', 'codElemento',\n",
       "       'codEmpenho', 'codFonteRecurso', 'codFuncao', 'codGrupo',\n",
       "       'codItemDespesa', 'codPrograma', 'codProjetoAtividade',\n",
       "       'codSubElemento', 'codSubFuncao', 'codUnidade', 'datEmpenho',\n",
       "       'mesEmpenho', 'nomEmpresa', 'numCpfCnpj', 'numReserva',\n",
       "       'txtCategoriaEconomica', 'txtDescricaoElemento',\n",
       "       'txtDescricaoFonteRecurso', 'txtDescricaoFuncao',\n",
       "       'txtDescricaoItemDespesa', 'txtDescricaoPrograma',\n",
       "       'txtDescricaoProjetoAtividade', 'txtDescricaoSubElemento',\n",
       "       'txtDescricaoSubFuncao', 'txtDescricaoUnidade', 'txtGrupoDespesa',\n",
       "       'txtModalidadeAplicacao', 'txtRazaoSocial', 'valPagoExercicio',\n",
       "       'valPagoRestos'],\n",
       "      dtype='object')"
      ]
     },
     "execution_count": 31,
     "metadata": {},
     "output_type": "execute_result"
    }
   ],
   "source": [
    "df_contratos_empenhados.columns"
   ]
  },
  {
   "cell_type": "code",
   "execution_count": 32,
   "metadata": {
    "collapsed": true
   },
   "outputs": [],
   "source": [
    "top20 = df_contratos_empenhados[['txtDescricaoModalidade',\n",
    "                                 'txtObjetoContrato',\n",
    "                                 'txtRazaoSocial',\n",
    "                                 'numCpfCnpj',\n",
    "                                 'valPrincipal']]"
   ]
  },
  {
   "cell_type": "code",
   "execution_count": null,
   "metadata": {
    "collapsed": true
   },
   "outputs": [],
   "source": [
    "#top20.sort_values(['valPrincipal'], ascending=False)"
   ]
  },
  {
   "cell_type": "markdown",
   "metadata": {},
   "source": [
    "### Modalidades de Contratação"
   ]
  },
  {
   "cell_type": "markdown",
   "metadata": {},
   "source": [
    "Várias são as análises possíveis com os campos acima. Vamos ver quantas as contratações a SMVMA fez em 2017, por tipo de licitação:"
   ]
  },
  {
   "cell_type": "code",
   "execution_count": null,
   "metadata": {},
   "outputs": [],
   "source": [
    "tipo_licitacao = df_contratos_Verde[]"
   ]
  }
 ],
 "metadata": {
  "kernelspec": {
   "display_name": "Python 3",
   "language": "python",
   "name": "python3"
  },
  "language_info": {
   "codemirror_mode": {
    "name": "ipython",
    "version": 3
   },
   "file_extension": ".py",
   "mimetype": "text/x-python",
   "name": "python",
   "nbconvert_exporter": "python",
   "pygments_lexer": "ipython3",
   "version": "3.6.1"
  }
 },
 "nbformat": 4,
 "nbformat_minor": 2
}
