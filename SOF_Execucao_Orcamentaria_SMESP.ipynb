{
 "cells": [
  {
   "cell_type": "markdown",
   "metadata": {},
   "source": [
    "# Explorando as despesas da educação na cidade de São Paulo"
   ]
  },
  {
   "cell_type": "markdown",
   "metadata": {},
   "source": [
    "*Um tutorial de primeiros passos para acessar a execução orçamentária da Secretaria de Educação do município usando Python e a biblioteca de análise de dados Pandas* *"
   ]
  },
  {
   "cell_type": "markdown",
   "metadata": {},
   "source": [
    "## Passo 1. Cadastro na API e token de acesso"
   ]
  },
  {
   "cell_type": "markdown",
   "metadata": {},
   "source": [
    "* Acessar a Vitrine de APIs da Prodam:https://api.prodam.sp.gov.br/store/\n",
    "* Selecione a API do SOF\n",
    "* Clique em \"Inscrever-se\"\n",
    "* Acesse o menu \"Minhas assinaturas\"\n",
    "* Gere uma chave de acesso de produção; coloque um valor de validade negativo, para evitar que expire\n",
    "* Copie o Token de Acesso"
   ]
  },
  {
   "cell_type": "markdown",
   "metadata": {},
   "source": [
    "## Passo 2. Teste na API Console"
   ]
  },
  {
   "cell_type": "markdown",
   "metadata": {},
   "source": [
    "A API Console (entre na aba com esse nome neste link [aqui](https://api.prodam.sp.gov.br/store/apis/info?name=SOF&version=v2.1.0&provider=admin)) é uma interface que permite testar as diferentes consultas e obter a URL com os parâmetros desejados. Por exemplo, se deseja obter todos os contratos da Secretaria de Educação em 2017, basta entrar no item **/consultaContrato** e informar \"2017\" no campo **anoContrato** e \"16\" (código da Educação) no campo **codOrgao**. A URL resultante dessa consulta e que você vai usar nos passos seguintes é https://gatewayapi.prodam.sp.gov.br:443/financas/orcamento/sof/v2.1.0/consultaContrato?anoContrato=2017&codOrgao=16  "
   ]
  },
  {
   "cell_type": "markdown",
   "metadata": {},
   "source": [
    "## Passo 3. Mãos ao Pandas!"
   ]
  },
  {
   "cell_type": "markdown",
   "metadata": {},
   "source": [
    "Este é o script que consulta a API (para qualquer URL gerada acima) e transforma o arquivo obtido em formato json para um Data Frame do Pandas, a partir do qual será possível fazer as análises. Substitua a constante TOKEN pelo seu código de assinatura!"
   ]
  },
  {
   "cell_type": "code",
   "execution_count": 2,
   "metadata": {
    "collapsed": true
   },
   "outputs": [],
   "source": [
    "import pandas as pd\n",
    "import requests\n",
    "import json\n",
    "import numpy as np\n",
    "import matplotlib.pyplot as plt"
   ]
  },
  {
   "cell_type": "code",
   "execution_count": 39,
   "metadata": {
    "collapsed": true
   },
   "outputs": [],
   "source": [
    "TOKEN = '198f959a5f39a1c441c7c863423264'\n",
    "\n",
    "base_url = \"https://gatewayapi.prodam.sp.gov.br:443/financas/orcamento/sof/v2.1.0\"\n",
    "\n",
    "headers={'Authorization' : str('Bearer ' + TOKEN)}\n",
    "\n",
    "anos = [2011, 2012, 2013, 2014, 2015, 2016, 2017, 2018]\n",
    "\n",
    "#Anos desejados na consulta; é possível consultar informações a partir de 2003"
   ]
  },
  {
   "cell_type": "markdown",
   "metadata": {},
   "source": [
    "## Orçamento \n",
    "\n",
    "Primeiro, vamos ter uma visão geral do que foi orçado para a Secretaria Municipal de Educação desde 2011 até o ano corrente, bem como os valores congelados e já executados. Isso é possível com a consulta \"Despesas\""
   ]
  },
  {
   "cell_type": "code",
   "execution_count": 5,
   "metadata": {},
   "outputs": [],
   "source": [
    "df_lista = []\n",
    "a = 0 \n",
    "\n",
    "for ano in anos:\n",
    "    \"\"\"consulta todos os anos da lista acima\"\"\"\n",
    "    \n",
    "    url_orcado = '{base_url}/consultarDespesas?anoDotacao={ano}&mesDotacao=12&codOrgao=16'.format(base_url=base_url, ano=ano)\n",
    "    request_orcado = requests.get(url_orcado,\n",
    "                                headers=headers,\n",
    "                                verify=True).json()\n",
    "    \n",
    "    df_orcado = pd.DataFrame(request_orcado['lstDespesas'])\n",
    "    df_lista.append(df_orcado)\n",
    "    df_lista[a].loc[:,'anoExercicio'] = str(ano)\n",
    "    #adiciona uma coluna com o ano de exercício, já que esta informação não vem na API\n",
    "    a += 1\n",
    "\n",
    "df_total = pd.concat(df_lista, axis=0, ignore_index=True)"
   ]
  },
  {
   "cell_type": "code",
   "execution_count": 6,
   "metadata": {},
   "outputs": [
    {
     "data": {
      "text/html": [
       "<div>\n",
       "<style>\n",
       "    .dataframe thead tr:only-child th {\n",
       "        text-align: right;\n",
       "    }\n",
       "\n",
       "    .dataframe thead th {\n",
       "        text-align: left;\n",
       "    }\n",
       "\n",
       "    .dataframe tbody tr th {\n",
       "        vertical-align: top;\n",
       "    }\n",
       "</style>\n",
       "<table border=\"1\" class=\"dataframe\">\n",
       "  <thead>\n",
       "    <tr style=\"text-align: right;\">\n",
       "      <th></th>\n",
       "      <th>valAnuladoEmpenho</th>\n",
       "      <th>valCanceladoReserva</th>\n",
       "      <th>valCongelado</th>\n",
       "      <th>valDescongelado</th>\n",
       "      <th>valDisponivel</th>\n",
       "      <th>valEmpenhadoLiquido</th>\n",
       "      <th>valLiquidado</th>\n",
       "      <th>valOrcadoAtualizado</th>\n",
       "      <th>valOrcadoInicial</th>\n",
       "      <th>valPagoExercicio</th>\n",
       "      <th>valPagoRestos</th>\n",
       "      <th>valReduzido</th>\n",
       "      <th>valReservado</th>\n",
       "      <th>valReservadoLiquido</th>\n",
       "      <th>valSuplementado</th>\n",
       "      <th>valTotalEmpenhado</th>\n",
       "      <th>anoExercicio</th>\n",
       "    </tr>\n",
       "  </thead>\n",
       "  <tbody>\n",
       "    <tr>\n",
       "      <th>0</th>\n",
       "      <td>4.414630e+08</td>\n",
       "      <td>1.247965e+09</td>\n",
       "      <td>1.937554e+09</td>\n",
       "      <td>1.715061e+09</td>\n",
       "      <td>6.984083e+09</td>\n",
       "      <td>6.826925e+09</td>\n",
       "      <td>6.210634e+09</td>\n",
       "      <td>7.206576e+09</td>\n",
       "      <td>6978389021</td>\n",
       "      <td>6.169191e+09</td>\n",
       "      <td>5.588442e+08</td>\n",
       "      <td>1.220404e+09</td>\n",
       "      <td>8.074884e+09</td>\n",
       "      <td>6.826919e+09</td>\n",
       "      <td>1.448590e+09</td>\n",
       "      <td>7.268388e+09</td>\n",
       "      <td>2011</td>\n",
       "    </tr>\n",
       "    <tr>\n",
       "      <th>1</th>\n",
       "      <td>3.916890e+08</td>\n",
       "      <td>1.256692e+09</td>\n",
       "      <td>1.850602e+09</td>\n",
       "      <td>1.694680e+09</td>\n",
       "      <td>7.520123e+09</td>\n",
       "      <td>7.406758e+09</td>\n",
       "      <td>6.997171e+09</td>\n",
       "      <td>7.676046e+09</td>\n",
       "      <td>7307184447</td>\n",
       "      <td>6.948630e+09</td>\n",
       "      <td>3.427918e+08</td>\n",
       "      <td>9.094071e+08</td>\n",
       "      <td>8.663449e+09</td>\n",
       "      <td>7.406758e+09</td>\n",
       "      <td>1.278269e+09</td>\n",
       "      <td>7.798447e+09</td>\n",
       "      <td>2012</td>\n",
       "    </tr>\n",
       "    <tr>\n",
       "      <th>2</th>\n",
       "      <td>7.262321e+08</td>\n",
       "      <td>1.310143e+09</td>\n",
       "      <td>1.066800e+07</td>\n",
       "      <td>1.423000e+06</td>\n",
       "      <td>8.280234e+09</td>\n",
       "      <td>7.939771e+09</td>\n",
       "      <td>7.595840e+09</td>\n",
       "      <td>8.289479e+09</td>\n",
       "      <td>7914456075</td>\n",
       "      <td>7.568847e+09</td>\n",
       "      <td>2.841143e+08</td>\n",
       "      <td>5.991833e+08</td>\n",
       "      <td>9.249913e+09</td>\n",
       "      <td>7.939771e+09</td>\n",
       "      <td>9.742067e+08</td>\n",
       "      <td>8.666003e+09</td>\n",
       "      <td>2013</td>\n",
       "    </tr>\n",
       "    <tr>\n",
       "      <th>3</th>\n",
       "      <td>4.201673e+08</td>\n",
       "      <td>1.252968e+09</td>\n",
       "      <td>1.244632e+09</td>\n",
       "      <td>8.673022e+08</td>\n",
       "      <td>8.983922e+09</td>\n",
       "      <td>8.799911e+09</td>\n",
       "      <td>8.417624e+09</td>\n",
       "      <td>9.361252e+09</td>\n",
       "      <td>9022636700</td>\n",
       "      <td>8.399880e+09</td>\n",
       "      <td>2.467169e+08</td>\n",
       "      <td>1.158271e+09</td>\n",
       "      <td>1.005287e+10</td>\n",
       "      <td>8.799905e+09</td>\n",
       "      <td>1.496886e+09</td>\n",
       "      <td>9.220079e+09</td>\n",
       "      <td>2014</td>\n",
       "    </tr>\n",
       "    <tr>\n",
       "      <th>4</th>\n",
       "      <td>6.408370e+08</td>\n",
       "      <td>1.428246e+09</td>\n",
       "      <td>1.114940e+09</td>\n",
       "      <td>9.182910e+08</td>\n",
       "      <td>9.802778e+09</td>\n",
       "      <td>9.709032e+09</td>\n",
       "      <td>9.207102e+09</td>\n",
       "      <td>9.999427e+09</td>\n",
       "      <td>9792348985</td>\n",
       "      <td>9.178274e+09</td>\n",
       "      <td>3.829664e+08</td>\n",
       "      <td>1.240442e+09</td>\n",
       "      <td>1.113728e+10</td>\n",
       "      <td>9.709032e+09</td>\n",
       "      <td>1.447520e+09</td>\n",
       "      <td>1.034987e+10</td>\n",
       "      <td>2015</td>\n",
       "    </tr>\n",
       "    <tr>\n",
       "      <th>5</th>\n",
       "      <td>7.566030e+08</td>\n",
       "      <td>1.246995e+09</td>\n",
       "      <td>1.745198e+09</td>\n",
       "      <td>1.051613e+09</td>\n",
       "      <td>1.045215e+10</td>\n",
       "      <td>1.024287e+10</td>\n",
       "      <td>9.890627e+09</td>\n",
       "      <td>1.114573e+10</td>\n",
       "      <td>11096151037</td>\n",
       "      <td>9.865022e+09</td>\n",
       "      <td>3.022515e+08</td>\n",
       "      <td>5.583677e+08</td>\n",
       "      <td>1.148986e+10</td>\n",
       "      <td>1.024287e+10</td>\n",
       "      <td>6.079500e+08</td>\n",
       "      <td>1.099947e+10</td>\n",
       "      <td>2016</td>\n",
       "    </tr>\n",
       "    <tr>\n",
       "      <th>6</th>\n",
       "      <td>2.272048e+09</td>\n",
       "      <td>3.460240e+09</td>\n",
       "      <td>3.720131e+09</td>\n",
       "      <td>3.558954e+09</td>\n",
       "      <td>1.104829e+10</td>\n",
       "      <td>1.069421e+10</td>\n",
       "      <td>1.023613e+10</td>\n",
       "      <td>1.120947e+10</td>\n",
       "      <td>10985422304</td>\n",
       "      <td>1.019775e+10</td>\n",
       "      <td>2.811021e+08</td>\n",
       "      <td>8.743850e+08</td>\n",
       "      <td>1.415445e+10</td>\n",
       "      <td>1.069421e+10</td>\n",
       "      <td>1.098430e+09</td>\n",
       "      <td>1.296626e+10</td>\n",
       "      <td>2017</td>\n",
       "    </tr>\n",
       "    <tr>\n",
       "      <th>7</th>\n",
       "      <td>3.921755e+08</td>\n",
       "      <td>6.206129e+08</td>\n",
       "      <td>1.383712e+09</td>\n",
       "      <td>2.125405e+08</td>\n",
       "      <td>1.062097e+10</td>\n",
       "      <td>3.779975e+09</td>\n",
       "      <td>2.206465e+09</td>\n",
       "      <td>1.179214e+10</td>\n",
       "      <td>11774780638</td>\n",
       "      <td>2.129934e+09</td>\n",
       "      <td>0.000000e+00</td>\n",
       "      <td>5.848946e+07</td>\n",
       "      <td>5.012304e+09</td>\n",
       "      <td>4.391691e+09</td>\n",
       "      <td>7.584808e+07</td>\n",
       "      <td>4.172151e+09</td>\n",
       "      <td>2018</td>\n",
       "    </tr>\n",
       "  </tbody>\n",
       "</table>\n",
       "</div>"
      ],
      "text/plain": [
       "   valAnuladoEmpenho  valCanceladoReserva  valCongelado  valDescongelado  \\\n",
       "0       4.414630e+08         1.247965e+09  1.937554e+09     1.715061e+09   \n",
       "1       3.916890e+08         1.256692e+09  1.850602e+09     1.694680e+09   \n",
       "2       7.262321e+08         1.310143e+09  1.066800e+07     1.423000e+06   \n",
       "3       4.201673e+08         1.252968e+09  1.244632e+09     8.673022e+08   \n",
       "4       6.408370e+08         1.428246e+09  1.114940e+09     9.182910e+08   \n",
       "5       7.566030e+08         1.246995e+09  1.745198e+09     1.051613e+09   \n",
       "6       2.272048e+09         3.460240e+09  3.720131e+09     3.558954e+09   \n",
       "7       3.921755e+08         6.206129e+08  1.383712e+09     2.125405e+08   \n",
       "\n",
       "   valDisponivel  valEmpenhadoLiquido  valLiquidado  valOrcadoAtualizado  \\\n",
       "0   6.984083e+09         6.826925e+09  6.210634e+09         7.206576e+09   \n",
       "1   7.520123e+09         7.406758e+09  6.997171e+09         7.676046e+09   \n",
       "2   8.280234e+09         7.939771e+09  7.595840e+09         8.289479e+09   \n",
       "3   8.983922e+09         8.799911e+09  8.417624e+09         9.361252e+09   \n",
       "4   9.802778e+09         9.709032e+09  9.207102e+09         9.999427e+09   \n",
       "5   1.045215e+10         1.024287e+10  9.890627e+09         1.114573e+10   \n",
       "6   1.104829e+10         1.069421e+10  1.023613e+10         1.120947e+10   \n",
       "7   1.062097e+10         3.779975e+09  2.206465e+09         1.179214e+10   \n",
       "\n",
       "   valOrcadoInicial  valPagoExercicio  valPagoRestos   valReduzido  \\\n",
       "0        6978389021      6.169191e+09   5.588442e+08  1.220404e+09   \n",
       "1        7307184447      6.948630e+09   3.427918e+08  9.094071e+08   \n",
       "2        7914456075      7.568847e+09   2.841143e+08  5.991833e+08   \n",
       "3        9022636700      8.399880e+09   2.467169e+08  1.158271e+09   \n",
       "4        9792348985      9.178274e+09   3.829664e+08  1.240442e+09   \n",
       "5       11096151037      9.865022e+09   3.022515e+08  5.583677e+08   \n",
       "6       10985422304      1.019775e+10   2.811021e+08  8.743850e+08   \n",
       "7       11774780638      2.129934e+09   0.000000e+00  5.848946e+07   \n",
       "\n",
       "   valReservado  valReservadoLiquido  valSuplementado  valTotalEmpenhado  \\\n",
       "0  8.074884e+09         6.826919e+09     1.448590e+09       7.268388e+09   \n",
       "1  8.663449e+09         7.406758e+09     1.278269e+09       7.798447e+09   \n",
       "2  9.249913e+09         7.939771e+09     9.742067e+08       8.666003e+09   \n",
       "3  1.005287e+10         8.799905e+09     1.496886e+09       9.220079e+09   \n",
       "4  1.113728e+10         9.709032e+09     1.447520e+09       1.034987e+10   \n",
       "5  1.148986e+10         1.024287e+10     6.079500e+08       1.099947e+10   \n",
       "6  1.415445e+10         1.069421e+10     1.098430e+09       1.296626e+10   \n",
       "7  5.012304e+09         4.391691e+09     7.584808e+07       4.172151e+09   \n",
       "\n",
       "  anoExercicio  \n",
       "0         2011  \n",
       "1         2012  \n",
       "2         2013  \n",
       "3         2014  \n",
       "4         2015  \n",
       "5         2016  \n",
       "6         2017  \n",
       "7         2018  "
      ]
     },
     "execution_count": 6,
     "metadata": {},
     "output_type": "execute_result"
    }
   ],
   "source": [
    "df_total"
   ]
  },
  {
   "cell_type": "markdown",
   "metadata": {},
   "source": [
    "Uma visão dos valores orçados (valor atualizado no início do ano, após projeção mais adequada das receitas) e o liquidado, nos últimos meses do ano:"
   ]
  },
  {
   "cell_type": "code",
   "execution_count": 7,
   "metadata": {
    "collapsed": true
   },
   "outputs": [],
   "source": [
    "series = df_total[['anoExercicio', 'valOrcadoAtualizado','valLiquidado']].set_index('anoExercicio')"
   ]
  },
  {
   "cell_type": "code",
   "execution_count": 8,
   "metadata": {
    "collapsed": true
   },
   "outputs": [],
   "source": [
    "series = series[['valOrcadoAtualizado', 'valLiquidado']].divide(1000000000)"
   ]
  },
  {
   "cell_type": "code",
   "execution_count": 9,
   "metadata": {},
   "outputs": [
    {
     "data": {
      "image/png": "[encoded data removed]",
      "text/plain": [
       "<matplotlib.figure.Figure at 0x2aacc27d630>"
      ]
     },
     "metadata": {},
     "output_type": "display_data"
    }
   ],
   "source": [
    "grafico1 = series[['valOrcadoAtualizado','valLiquidado']].plot(kind='bar', title =\"Orçado x Liquidado\", figsize=(15, 7), legend=True, fontsize=12)\n",
    "\n",
    "grafico1.set_xlabel(\"Ano\", fontsize=12)\n",
    "\n",
    "grafico1.set_ylabel(\"Em bilhões de R$\", fontsize=12)\n",
    "\n",
    "plt.show(grafico1)"
   ]
  },
  {
   "cell_type": "markdown",
   "metadata": {},
   "source": [
    "## Empenhos"
   ]
  },
  {
   "cell_type": "markdown",
   "metadata": {},
   "source": [
    "Empenho é o ato em que autoridade verifica a existência do crédito orçamentário e autoriza a execução da despesa (por exemplo, para realizar uma licitação). A partir daí, os valores vão sendo liquidados e pagos conforme a execução de um contrato. \n",
    "\n",
    "A API fornece apenas uma página na consulta. O script abaixo checa a quantidade de páginas nos metadados da consulta e itera o número de vezes necessário para obter todas as páginas."
   ]
  },
  {
   "cell_type": "markdown",
   "metadata": {},
   "source": [
    "### Opção 1. Um ano inteiro"
   ]
  },
  {
   "cell_type": "markdown",
   "metadata": {},
   "source": [
    "Vamos ver quanto a Secretaria Municipal de Educação empenhou de seu orçamento em 2017."
   ]
  },
  {
   "cell_type": "code",
   "execution_count": 20,
   "metadata": {
    "collapsed": true
   },
   "outputs": [],
   "source": [
    "pagination = '&numPagina={PAGE}'\n",
    "ano_empenho = 2017"
   ]
  },
  {
   "cell_type": "code",
   "execution_count": null,
   "metadata": {
    "collapsed": true
   },
   "outputs": [],
   "source": [
    "request_empenhos = requests.get('{base_url}/consultaEmpenhos?anoEmpenho={ano}&mesEmpenho=12&codOrgao=16'.format(base_url=base_url, ano=ano_empenho), \n",
    "                                            headers=headers, verify=True).json()\n",
    "    \n",
    "    number_of_pages = request_empenhos['metadados']['qtdPaginas']\n",
    "\n",
    "    todos_empenhos = []\n",
    "    \n",
    "    todos_empenhos = todos_empenhos + request_empenhos['lstEmpenhos']\n",
    "    \n",
    "    if number_of_pages>1:\n",
    "        \n",
    "        for p in range(2, number_of_pages+1):\n",
    "            \n",
    "            request_empenhos = requests.get('{base_url}/consultaEmpenhos?anoEmpenho={ano}&mesEmpenho=12&codOrgao=16'.format(base_url=base_url, ano=ano_empenho) + pagination.format(PAGE=p), \n",
    "                                            headers=headers, verify=True).json()\n",
    "            \n",
    "            todos_empenhos = todos_empenhos + request_empenhos['lstEmpenhos']\n",
    "            \n",
    "df_empenhos = pd.DataFrame(todos_empenhos)"
   ]
  },
  {
   "cell_type": "markdown",
   "metadata": {},
   "source": [
    "### Opção 2. Série Histórica"
   ]
  },
  {
   "cell_type": "code",
   "execution_count": 4,
   "metadata": {
    "collapsed": true
   },
   "outputs": [],
   "source": [
    "pagination = '&numPagina={PAGE}'"
   ]
  },
  {
   "cell_type": "markdown",
   "metadata": {},
   "source": [
    "**Atenção: as consultas podem demorar horas, a depender da quantidade de anos requerida; verifique se o número de anos acima é realmente necessário; faça apenas isso uma vez, e guarde a base para análises futuras **"
   ]
  },
  {
   "cell_type": "code",
   "execution_count": 40,
   "metadata": {},
   "outputs": [],
   "source": [
    "df_empenhos_lista = []\n",
    "\n",
    "for ano in anos:\n",
    "\n",
    "    request_empenhos = requests.get('{base_url}/consultaEmpenhos?anoEmpenho={ano}&mesEmpenho=12&codOrgao=16'.format(base_url=base_url, ano=ano), \n",
    "                                            headers=headers, verify=True).json()\n",
    "    \n",
    "    number_of_pages = request_empenhos['metadados']['qtdPaginas']\n",
    "\n",
    "    todos_empenhos = []\n",
    "    \n",
    "    todos_empenhos = todos_empenhos + request_empenhos['lstEmpenhos']\n",
    "    \n",
    "    if number_of_pages>1:\n",
    "        \n",
    "        for p in range(2, number_of_pages+1):\n",
    "            \n",
    "            request_empenhos = requests.get('{base_url}/consultaEmpenhos?anoEmpenho={ano}&mesEmpenho=12&codOrgao=16'.format(base_url=base_url, ano=ano) + pagination.format(PAGE=p), \n",
    "                                            headers=headers, verify=True).json()\n",
    "            \n",
    "            todos_empenhos = todos_empenhos + request_empenhos['lstEmpenhos']\n",
    "            \n",
    "    df_empenhos = pd.DataFrame(todos_empenhos)\n",
    "    \n",
    "    df_empenhos_lista.append(df_empenhos)\n",
    "\n",
    "df_empenhos_serie = pd.concat(df_empenhos_lista, ignore_index=True)"
   ]
  },
  {
   "cell_type": "code",
   "execution_count": 41,
   "metadata": {},
   "outputs": [
    {
     "data": {
      "text/plain": [
       "Index(['anoEmpenho', 'codCategoria', 'codElemento', 'codEmpenho', 'codEmpresa',\n",
       "       'codFonteRecurso', 'codFuncao', 'codGrupo', 'codItemDespesa',\n",
       "       'codModalidade', 'codOrgao', 'codPrograma', 'codProjetoAtividade',\n",
       "       'codSubElemento', 'codSubFuncao', 'codUnidade', 'datEmpenho',\n",
       "       'mesEmpenho', 'nomEmpresa', 'numCpfCnpj', 'numReserva',\n",
       "       'txtCategoriaEconomica', 'txtDescricaoElemento',\n",
       "       'txtDescricaoFonteRecurso', 'txtDescricaoFuncao',\n",
       "       'txtDescricaoItemDespesa', 'txtDescricaoOrgao', 'txtDescricaoPrograma',\n",
       "       'txtDescricaoProjetoAtividade', 'txtDescricaoSubElemento',\n",
       "       'txtDescricaoSubFuncao', 'txtDescricaoUnidade', 'txtGrupoDespesa',\n",
       "       'txtModalidadeAplicacao', 'txtRazaoSocial', 'valAnuladoEmpenho',\n",
       "       'valEmpenhadoLiquido', 'valLiquidado', 'valPagoExercicio',\n",
       "       'valPagoRestos', 'valTotalEmpenhado'],\n",
       "      dtype='object')"
      ]
     },
     "execution_count": 41,
     "metadata": {},
     "output_type": "execute_result"
    }
   ],
   "source": [
    "df_empenhos_serie.columns"
   ]
  },
  {
   "cell_type": "markdown",
   "metadata": {},
   "source": [
    "Com os passos acima, fizemos a requisição de todas as páginas e convertemos o arquivo formato json em um DataFrame. Agora podemos trabalhar com a análise desses dado no Pandas. Para checar quantos registros existentes, vamos ver o final da lista (aqui havia apenas 2016-2017):"
   ]
  },
  {
   "cell_type": "code",
   "execution_count": 42,
   "metadata": {},
   "outputs": [
    {
     "data": {
      "text/html": [
       "<div>\n",
       "<style>\n",
       "    .dataframe thead tr:only-child th {\n",
       "        text-align: right;\n",
       "    }\n",
       "\n",
       "    .dataframe thead th {\n",
       "        text-align: left;\n",
       "    }\n",
       "\n",
       "    .dataframe tbody tr th {\n",
       "        vertical-align: top;\n",
       "    }\n",
       "</style>\n",
       "<table border=\"1\" class=\"dataframe\">\n",
       "  <thead>\n",
       "    <tr style=\"text-align: right;\">\n",
       "      <th></th>\n",
       "      <th>anoEmpenho</th>\n",
       "      <th>codCategoria</th>\n",
       "      <th>codElemento</th>\n",
       "      <th>codEmpenho</th>\n",
       "      <th>codEmpresa</th>\n",
       "      <th>codFonteRecurso</th>\n",
       "      <th>codFuncao</th>\n",
       "      <th>codGrupo</th>\n",
       "      <th>codItemDespesa</th>\n",
       "      <th>codModalidade</th>\n",
       "      <th>...</th>\n",
       "      <th>txtDescricaoUnidade</th>\n",
       "      <th>txtGrupoDespesa</th>\n",
       "      <th>txtModalidadeAplicacao</th>\n",
       "      <th>txtRazaoSocial</th>\n",
       "      <th>valAnuladoEmpenho</th>\n",
       "      <th>valEmpenhadoLiquido</th>\n",
       "      <th>valLiquidado</th>\n",
       "      <th>valPagoExercicio</th>\n",
       "      <th>valPagoRestos</th>\n",
       "      <th>valTotalEmpenhado</th>\n",
       "    </tr>\n",
       "  </thead>\n",
       "  <tbody>\n",
       "    <tr>\n",
       "      <th>115242</th>\n",
       "      <td>2017</td>\n",
       "      <td>3</td>\n",
       "      <td>39</td>\n",
       "      <td>65602</td>\n",
       "      <td>01</td>\n",
       "      <td>00</td>\n",
       "      <td>12</td>\n",
       "      <td>3</td>\n",
       "      <td>99</td>\n",
       "      <td>90</td>\n",
       "      <td>...</td>\n",
       "      <td>Departamento de Alimentação Escolar</td>\n",
       "      <td>Outras Despesas Correntes</td>\n",
       "      <td>Aplicações Diretas</td>\n",
       "      <td>BICIEXTIL EXTINTORES EIRELI EPP</td>\n",
       "      <td>0.0</td>\n",
       "      <td>548.00</td>\n",
       "      <td>548.00</td>\n",
       "      <td>548.00</td>\n",
       "      <td>0.0</td>\n",
       "      <td>548.00</td>\n",
       "    </tr>\n",
       "    <tr>\n",
       "      <th>115243</th>\n",
       "      <td>2017</td>\n",
       "      <td>3</td>\n",
       "      <td>39</td>\n",
       "      <td>9857</td>\n",
       "      <td>01</td>\n",
       "      <td>00</td>\n",
       "      <td>12</td>\n",
       "      <td>3</td>\n",
       "      <td>99</td>\n",
       "      <td>90</td>\n",
       "      <td>...</td>\n",
       "      <td>Departamento de Alimentação Escolar</td>\n",
       "      <td>Outras Despesas Correntes</td>\n",
       "      <td>Aplicações Diretas</td>\n",
       "      <td>BG COMERCIO DE BALANÇAS LTDA - EPP</td>\n",
       "      <td>0.0</td>\n",
       "      <td>2954.68</td>\n",
       "      <td>2954.68</td>\n",
       "      <td>2954.68</td>\n",
       "      <td>0.0</td>\n",
       "      <td>2954.68</td>\n",
       "    </tr>\n",
       "    <tr>\n",
       "      <th>115244</th>\n",
       "      <td>2017</td>\n",
       "      <td>3</td>\n",
       "      <td>39</td>\n",
       "      <td>9863</td>\n",
       "      <td>01</td>\n",
       "      <td>00</td>\n",
       "      <td>12</td>\n",
       "      <td>3</td>\n",
       "      <td>99</td>\n",
       "      <td>90</td>\n",
       "      <td>...</td>\n",
       "      <td>Departamento de Alimentação Escolar</td>\n",
       "      <td>Outras Despesas Correntes</td>\n",
       "      <td>Aplicações Diretas</td>\n",
       "      <td>BG COMERCIO DE BALANÇAS LTDA - EPP</td>\n",
       "      <td>0.0</td>\n",
       "      <td>229.68</td>\n",
       "      <td>229.68</td>\n",
       "      <td>229.68</td>\n",
       "      <td>0.0</td>\n",
       "      <td>229.68</td>\n",
       "    </tr>\n",
       "    <tr>\n",
       "      <th>115245</th>\n",
       "      <td>2017</td>\n",
       "      <td>3</td>\n",
       "      <td>39</td>\n",
       "      <td>13108</td>\n",
       "      <td>01</td>\n",
       "      <td>00</td>\n",
       "      <td>12</td>\n",
       "      <td>3</td>\n",
       "      <td>99</td>\n",
       "      <td>90</td>\n",
       "      <td>...</td>\n",
       "      <td>Departamento de Alimentação Escolar</td>\n",
       "      <td>Outras Despesas Correntes</td>\n",
       "      <td>Aplicações Diretas</td>\n",
       "      <td>DIGIDOK3 DIGITALIZAÇÃO E SERVIÇOS LTDA - EPP</td>\n",
       "      <td>0.0</td>\n",
       "      <td>8610.86</td>\n",
       "      <td>8610.86</td>\n",
       "      <td>8610.86</td>\n",
       "      <td>0.0</td>\n",
       "      <td>8610.86</td>\n",
       "    </tr>\n",
       "    <tr>\n",
       "      <th>115246</th>\n",
       "      <td>2017</td>\n",
       "      <td>3</td>\n",
       "      <td>39</td>\n",
       "      <td>13096</td>\n",
       "      <td>01</td>\n",
       "      <td>00</td>\n",
       "      <td>12</td>\n",
       "      <td>3</td>\n",
       "      <td>99</td>\n",
       "      <td>90</td>\n",
       "      <td>...</td>\n",
       "      <td>Departamento de Alimentação Escolar</td>\n",
       "      <td>Outras Despesas Correntes</td>\n",
       "      <td>Aplicações Diretas</td>\n",
       "      <td>DIGIDOK3 DIGITALIZAÇÃO E SERVIÇOS LTDA - EPP</td>\n",
       "      <td>0.0</td>\n",
       "      <td>86282.43</td>\n",
       "      <td>86282.43</td>\n",
       "      <td>86282.43</td>\n",
       "      <td>0.0</td>\n",
       "      <td>86282.43</td>\n",
       "    </tr>\n",
       "  </tbody>\n",
       "</table>\n",
       "<p>5 rows × 41 columns</p>\n",
       "</div>"
      ],
      "text/plain": [
       "        anoEmpenho  codCategoria codElemento  codEmpenho codEmpresa  \\\n",
       "115242        2017             3          39       65602         01   \n",
       "115243        2017             3          39        9857         01   \n",
       "115244        2017             3          39        9863         01   \n",
       "115245        2017             3          39       13108         01   \n",
       "115246        2017             3          39       13096         01   \n",
       "\n",
       "       codFonteRecurso codFuncao  codGrupo codItemDespesa  codModalidade  \\\n",
       "115242              00        12         3             99             90   \n",
       "115243              00        12         3             99             90   \n",
       "115244              00        12         3             99             90   \n",
       "115245              00        12         3             99             90   \n",
       "115246              00        12         3             99             90   \n",
       "\n",
       "              ...                         txtDescricaoUnidade  \\\n",
       "115242        ...         Departamento de Alimentação Escolar   \n",
       "115243        ...         Departamento de Alimentação Escolar   \n",
       "115244        ...         Departamento de Alimentação Escolar   \n",
       "115245        ...         Departamento de Alimentação Escolar   \n",
       "115246        ...         Departamento de Alimentação Escolar   \n",
       "\n",
       "                  txtGrupoDespesa txtModalidadeAplicacao  \\\n",
       "115242  Outras Despesas Correntes     Aplicações Diretas   \n",
       "115243  Outras Despesas Correntes     Aplicações Diretas   \n",
       "115244  Outras Despesas Correntes     Aplicações Diretas   \n",
       "115245  Outras Despesas Correntes     Aplicações Diretas   \n",
       "115246  Outras Despesas Correntes     Aplicações Diretas   \n",
       "\n",
       "                                      txtRazaoSocial valAnuladoEmpenho  \\\n",
       "115242               BICIEXTIL EXTINTORES EIRELI EPP               0.0   \n",
       "115243            BG COMERCIO DE BALANÇAS LTDA - EPP               0.0   \n",
       "115244            BG COMERCIO DE BALANÇAS LTDA - EPP               0.0   \n",
       "115245  DIGIDOK3 DIGITALIZAÇÃO E SERVIÇOS LTDA - EPP               0.0   \n",
       "115246  DIGIDOK3 DIGITALIZAÇÃO E SERVIÇOS LTDA - EPP               0.0   \n",
       "\n",
       "       valEmpenhadoLiquido valLiquidado  valPagoExercicio valPagoRestos  \\\n",
       "115242              548.00       548.00            548.00           0.0   \n",
       "115243             2954.68      2954.68           2954.68           0.0   \n",
       "115244              229.68       229.68            229.68           0.0   \n",
       "115245             8610.86      8610.86           8610.86           0.0   \n",
       "115246            86282.43     86282.43          86282.43           0.0   \n",
       "\n",
       "       valTotalEmpenhado  \n",
       "115242            548.00  \n",
       "115243           2954.68  \n",
       "115244            229.68  \n",
       "115245           8610.86  \n",
       "115246          86282.43  \n",
       "\n",
       "[5 rows x 41 columns]"
      ]
     },
     "execution_count": 42,
     "metadata": {},
     "output_type": "execute_result"
    }
   ],
   "source": [
    "df_empenhos_serie.tail()"
   ]
  },
  {
   "cell_type": "markdown",
   "metadata": {},
   "source": [
    "#### Modalidades de Aplicação\n",
    "\n",
    "Aqui vemos a quantidade de recursos aplicados na Saúde, a título de exemplo, por Modalidade -- se é aplicação na rede direta ou repasse a organizações sociais. Note que o mesmo poderia ser feito para qualquer órgão, ou mesmo para a Prefeitura como um todo:"
   ]
  },
  {
   "cell_type": "code",
   "execution_count": 43,
   "metadata": {
    "collapsed": true
   },
   "outputs": [],
   "source": [
    "modalidades = df_empenhos_serie.groupby('txtModalidadeAplicacao')['valTotalEmpenhado', 'valLiquidado'].sum()"
   ]
  },
  {
   "cell_type": "code",
   "execution_count": 44,
   "metadata": {},
   "outputs": [
    {
     "data": {
      "text/html": [
       "<div>\n",
       "<style>\n",
       "    .dataframe thead tr:only-child th {\n",
       "        text-align: right;\n",
       "    }\n",
       "\n",
       "    .dataframe thead th {\n",
       "        text-align: left;\n",
       "    }\n",
       "\n",
       "    .dataframe tbody tr th {\n",
       "        vertical-align: top;\n",
       "    }\n",
       "</style>\n",
       "<table border=\"1\" class=\"dataframe\">\n",
       "  <thead>\n",
       "    <tr style=\"text-align: right;\">\n",
       "      <th></th>\n",
       "      <th>valTotalEmpenhado</th>\n",
       "      <th>valLiquidado</th>\n",
       "    </tr>\n",
       "    <tr>\n",
       "      <th>txtModalidadeAplicacao</th>\n",
       "      <th></th>\n",
       "      <th></th>\n",
       "    </tr>\n",
       "  </thead>\n",
       "  <tbody>\n",
       "    <tr>\n",
       "      <th>Apl.Dir.Dec.Op. entre Órgãos,Fundos e Ent.Int.Orç.Fiscal e Seg.Social</th>\n",
       "      <td>3.171919e+05</td>\n",
       "      <td>2.664116e+05</td>\n",
       "    </tr>\n",
       "    <tr>\n",
       "      <th>Aplicações Diretas</th>\n",
       "      <td>1.936534e+10</td>\n",
       "      <td>1.613209e+10</td>\n",
       "    </tr>\n",
       "    <tr>\n",
       "      <th>Execução Orçamentária Delegada à União</th>\n",
       "      <td>1.175625e+06</td>\n",
       "      <td>0.000000e+00</td>\n",
       "    </tr>\n",
       "    <tr>\n",
       "      <th>Transferências a Instituições Privadas com Fins Lucrativos</th>\n",
       "      <td>2.451820e+07</td>\n",
       "      <td>2.077852e+07</td>\n",
       "    </tr>\n",
       "    <tr>\n",
       "      <th>Transferências a Instituições Privadas sem Fins Lucrativos</th>\n",
       "      <td>4.567242e+09</td>\n",
       "      <td>3.971606e+09</td>\n",
       "    </tr>\n",
       "    <tr>\n",
       "      <th>Transferências ao Exterior</th>\n",
       "      <td>2.015202e+06</td>\n",
       "      <td>2.013540e+06</td>\n",
       "    </tr>\n",
       "    <tr>\n",
       "      <th>Transferências à União</th>\n",
       "      <td>5.129619e+06</td>\n",
       "      <td>0.000000e+00</td>\n",
       "    </tr>\n",
       "  </tbody>\n",
       "</table>\n",
       "</div>"
      ],
      "text/plain": [
       "                                                    valTotalEmpenhado  \\\n",
       "txtModalidadeAplicacao                                                  \n",
       "Apl.Dir.Dec.Op. entre Órgãos,Fundos e Ent.Int.O...       3.171919e+05   \n",
       "Aplicações Diretas                                       1.936534e+10   \n",
       "Execução Orçamentária Delegada à União                   1.175625e+06   \n",
       "Transferências a Instituições Privadas com Fins...       2.451820e+07   \n",
       "Transferências a Instituições Privadas sem Fins...       4.567242e+09   \n",
       "Transferências ao Exterior                               2.015202e+06   \n",
       "Transferências à União                                   5.129619e+06   \n",
       "\n",
       "                                                    valLiquidado  \n",
       "txtModalidadeAplicacao                                            \n",
       "Apl.Dir.Dec.Op. entre Órgãos,Fundos e Ent.Int.O...  2.664116e+05  \n",
       "Aplicações Diretas                                  1.613209e+10  \n",
       "Execução Orçamentária Delegada à União              0.000000e+00  \n",
       "Transferências a Instituições Privadas com Fins...  2.077852e+07  \n",
       "Transferências a Instituições Privadas sem Fins...  3.971606e+09  \n",
       "Transferências ao Exterior                          2.013540e+06  \n",
       "Transferências à União                              0.000000e+00  "
      ]
     },
     "execution_count": 44,
     "metadata": {},
     "output_type": "execute_result"
    }
   ],
   "source": [
    "modalidades"
   ]
  },
  {
   "cell_type": "code",
   "execution_count": 15,
   "metadata": {
    "collapsed": true
   },
   "outputs": [],
   "source": [
    "# Outra maneira de fazer a mesma operação:\n",
    "#pd.pivot_table(df_empenhos, values='valTotalEmpenhado', index=['txtModalidadeAplicacao'], aggfunc=np.sum)"
   ]
  },
  {
   "cell_type": "markdown",
   "metadata": {},
   "source": [
    "#### Maiores despesas\n",
    "\n",
    "Aqui vamos produzir a lista das 15 maiores despesas da Educação neste período:"
   ]
  },
  {
   "cell_type": "code",
   "execution_count": 45,
   "metadata": {
    "collapsed": true
   },
   "outputs": [],
   "source": [
    "despesas = pd.pivot_table(df_empenhos_serie, \n",
    "                              values=['valLiquidado', 'valPagoExercicio'], \n",
    "                              index=['numCpfCnpj', 'txtRazaoSocial', 'txtDescricaoProjetoAtividade'], \n",
    "                              aggfunc=np.sum).sort_values('valPagoExercicio', axis=0, ascending=False, inplace=False, kind='quicksort', na_position='last')"
   ]
  },
  {
   "cell_type": "code",
   "execution_count": 46,
   "metadata": {},
   "outputs": [
    {
     "data": {
      "text/html": [
       "<div>\n",
       "<style>\n",
       "    .dataframe thead tr:only-child th {\n",
       "        text-align: right;\n",
       "    }\n",
       "\n",
       "    .dataframe thead th {\n",
       "        text-align: left;\n",
       "    }\n",
       "\n",
       "    .dataframe tbody tr th {\n",
       "        vertical-align: top;\n",
       "    }\n",
       "</style>\n",
       "<table border=\"1\" class=\"dataframe\">\n",
       "  <thead>\n",
       "    <tr style=\"text-align: right;\">\n",
       "      <th></th>\n",
       "      <th></th>\n",
       "      <th></th>\n",
       "      <th>valLiquidado</th>\n",
       "      <th>valPagoExercicio</th>\n",
       "    </tr>\n",
       "    <tr>\n",
       "      <th>numCpfCnpj</th>\n",
       "      <th>txtRazaoSocial</th>\n",
       "      <th>txtDescricaoProjetoAtividade</th>\n",
       "      <th></th>\n",
       "      <th></th>\n",
       "    </tr>\n",
       "  </thead>\n",
       "  <tbody>\n",
       "    <tr>\n",
       "      <th rowspan=\"2\" valign=\"top\">00000000999962</th>\n",
       "      <th rowspan=\"2\" valign=\"top\">FOLHA DE PAGAMENTO _ EXECUTIVO</th>\n",
       "      <th>Remuneração dos Profissionais do Magistério</th>\n",
       "      <td>7.336578e+09</td>\n",
       "      <td>7.336578e+09</td>\n",
       "    </tr>\n",
       "    <tr>\n",
       "      <th>Operação e Manutenção do Sistema Municipal de Ensino</th>\n",
       "      <td>2.963915e+09</td>\n",
       "      <td>2.963915e+09</td>\n",
       "    </tr>\n",
       "    <tr>\n",
       "      <th>00051412000000</th>\n",
       "      <th>SERV.SEC.MUN. DE EDUCAÇÃO - AUX. REFEIÇÃO</th>\n",
       "      <th>Operação e Manutenção do Sistema Municipal de Ensino</th>\n",
       "      <td>8.030312e+08</td>\n",
       "      <td>8.030312e+08</td>\n",
       "    </tr>\n",
       "    <tr>\n",
       "      <th>00000000999962</th>\n",
       "      <th>FOLHA DE PAGAMENTO _ EXECUTIVO</th>\n",
       "      <th>Administração da Unidade</th>\n",
       "      <td>6.537685e+08</td>\n",
       "      <td>6.537685e+08</td>\n",
       "    </tr>\n",
       "    <tr>\n",
       "      <th>61980272000190</th>\n",
       "      <th>SHA COMERCIO DE ALIMENTOS LTDA</th>\n",
       "      <th>Alimentação Escolar</th>\n",
       "      <td>2.152894e+08</td>\n",
       "      <td>2.125028e+08</td>\n",
       "    </tr>\n",
       "    <tr>\n",
       "      <th>00000000999962</th>\n",
       "      <th>FOLHA DE PAGAMENTO _ EXECUTIVO</th>\n",
       "      <th>Operação e Manutenção dos Centros Educacionais Unificados</th>\n",
       "      <td>1.689856e+08</td>\n",
       "      <td>1.689856e+08</td>\n",
       "    </tr>\n",
       "    <tr>\n",
       "      <th>60166832000104</th>\n",
       "      <th>APETECE SISTEMAS DE ALIMENTACAO S/A</th>\n",
       "      <th>Alimentação Escolar</th>\n",
       "      <td>1.661347e+08</td>\n",
       "      <td>1.661347e+08</td>\n",
       "    </tr>\n",
       "    <tr>\n",
       "      <th>39787056000173</th>\n",
       "      <th>TANGARÁ IMP.E EXP.S/A</th>\n",
       "      <th>Leve-Leite</th>\n",
       "      <td>1.607405e+08</td>\n",
       "      <td>1.607405e+08</td>\n",
       "    </tr>\n",
       "    <tr>\n",
       "      <th>05951758000129</th>\n",
       "      <th>DENJUD REFEIÇÕES COLETIVAS ADMINISTRAÇÃO E SERVIÇOS LTDA</th>\n",
       "      <th>Alimentação Escolar</th>\n",
       "      <td>1.539616e+08</td>\n",
       "      <td>1.539616e+08</td>\n",
       "    </tr>\n",
       "    <tr>\n",
       "      <th>43776517000180</th>\n",
       "      <th>CIA DE SANEAMENTO BÁSICO DO ESTADO DE SÃO PAULO SABESP</th>\n",
       "      <th>Operação e Manutenção do Sistema Municipal de Ensino</th>\n",
       "      <td>1.266086e+08</td>\n",
       "      <td>1.260563e+08</td>\n",
       "    </tr>\n",
       "    <tr>\n",
       "      <th>01920177000764</th>\n",
       "      <th>COMERCIAL MILANO BRASIL LTDA</th>\n",
       "      <th>Alimentação Escolar</th>\n",
       "      <td>1.267848e+08</td>\n",
       "      <td>1.240951e+08</td>\n",
       "    </tr>\n",
       "    <tr>\n",
       "      <th>00000000999962</th>\n",
       "      <th>FOLHA DE PAGAMENTO _ EXECUTIVO</th>\n",
       "      <th>Ações Complementares do Sistema Municipal de Ensino</th>\n",
       "      <td>1.073501e+08</td>\n",
       "      <td>1.073501e+08</td>\n",
       "    </tr>\n",
       "    <tr>\n",
       "      <th>02183750000171</th>\n",
       "      <th>BASE SISTEMA SERVIÇOS DE ADMINISTRAÇÃO E COMERCIO LTDA</th>\n",
       "      <th>Alimentação Escolar</th>\n",
       "      <td>7.729509e+07</td>\n",
       "      <td>7.729509e+07</td>\n",
       "    </tr>\n",
       "    <tr>\n",
       "      <th>61695227000193</th>\n",
       "      <th>ELETROPAULO METROPOLITANA ELETRICIDADE DE SÃO PAULO S.A.</th>\n",
       "      <th>Operação e Manutenção do Sistema Municipal de Ensino</th>\n",
       "      <td>6.987073e+07</td>\n",
       "      <td>6.987071e+07</td>\n",
       "    </tr>\n",
       "    <tr>\n",
       "      <th>53818191000160</th>\n",
       "      <th>SOCIEDADE BENEFICIENTE EQUILIBRIO DE INTERLAGOS</th>\n",
       "      <th>Operação e Manutenção de CEIs e Creches da rede conveniada e outras mo</th>\n",
       "      <td>6.799869e+07</td>\n",
       "      <td>6.798499e+07</td>\n",
       "    </tr>\n",
       "  </tbody>\n",
       "</table>\n",
       "</div>"
      ],
      "text/plain": [
       "                                                                                                                      valLiquidado  \\\n",
       "numCpfCnpj     txtRazaoSocial                                     txtDescricaoProjetoAtividade                                       \n",
       "00000000999962 FOLHA DE PAGAMENTO _ EXECUTIVO                     Remuneração dos Profissionais do Magistério         7.336578e+09   \n",
       "                                                                  Operação e Manutenção do Sistema Municipal de E...  2.963915e+09   \n",
       "00051412000000 SERV.SEC.MUN. DE EDUCAÇÃO - AUX. REFEIÇÃO          Operação e Manutenção do Sistema Municipal de E...  8.030312e+08   \n",
       "00000000999962 FOLHA DE PAGAMENTO _ EXECUTIVO                     Administração da Unidade                            6.537685e+08   \n",
       "61980272000190 SHA COMERCIO DE ALIMENTOS LTDA                     Alimentação Escolar                                 2.152894e+08   \n",
       "00000000999962 FOLHA DE PAGAMENTO _ EXECUTIVO                     Operação e Manutenção dos Centros Educacionais ...  1.689856e+08   \n",
       "60166832000104 APETECE SISTEMAS DE ALIMENTACAO S/A                Alimentação Escolar                                 1.661347e+08   \n",
       "39787056000173 TANGARÁ IMP.E EXP.S/A                              Leve-Leite                                          1.607405e+08   \n",
       "05951758000129 DENJUD REFEIÇÕES COLETIVAS ADMINISTRAÇÃO E SERV... Alimentação Escolar                                 1.539616e+08   \n",
       "43776517000180 CIA DE SANEAMENTO BÁSICO DO ESTADO DE SÃO PAULO... Operação e Manutenção do Sistema Municipal de E...  1.266086e+08   \n",
       "01920177000764 COMERCIAL MILANO BRASIL LTDA                       Alimentação Escolar                                 1.267848e+08   \n",
       "00000000999962 FOLHA DE PAGAMENTO _ EXECUTIVO                     Ações Complementares do Sistema Municipal de En...  1.073501e+08   \n",
       "02183750000171 BASE SISTEMA SERVIÇOS DE ADMINISTRAÇÃO E COMERC... Alimentação Escolar                                 7.729509e+07   \n",
       "61695227000193 ELETROPAULO METROPOLITANA ELETRICIDADE DE SÃO P... Operação e Manutenção do Sistema Municipal de E...  6.987073e+07   \n",
       "53818191000160 SOCIEDADE BENEFICIENTE EQUILIBRIO DE INTERLAGOS    Operação e Manutenção de CEIs e Creches da rede...  6.799869e+07   \n",
       "\n",
       "                                                                                                                      valPagoExercicio  \n",
       "numCpfCnpj     txtRazaoSocial                                     txtDescricaoProjetoAtividade                                          \n",
       "00000000999962 FOLHA DE PAGAMENTO _ EXECUTIVO                     Remuneração dos Profissionais do Magistério             7.336578e+09  \n",
       "                                                                  Operação e Manutenção do Sistema Municipal de E...      2.963915e+09  \n",
       "00051412000000 SERV.SEC.MUN. DE EDUCAÇÃO - AUX. REFEIÇÃO          Operação e Manutenção do Sistema Municipal de E...      8.030312e+08  \n",
       "00000000999962 FOLHA DE PAGAMENTO _ EXECUTIVO                     Administração da Unidade                                6.537685e+08  \n",
       "61980272000190 SHA COMERCIO DE ALIMENTOS LTDA                     Alimentação Escolar                                     2.125028e+08  \n",
       "00000000999962 FOLHA DE PAGAMENTO _ EXECUTIVO                     Operação e Manutenção dos Centros Educacionais ...      1.689856e+08  \n",
       "60166832000104 APETECE SISTEMAS DE ALIMENTACAO S/A                Alimentação Escolar                                     1.661347e+08  \n",
       "39787056000173 TANGARÁ IMP.E EXP.S/A                              Leve-Leite                                              1.607405e+08  \n",
       "05951758000129 DENJUD REFEIÇÕES COLETIVAS ADMINISTRAÇÃO E SERV... Alimentação Escolar                                     1.539616e+08  \n",
       "43776517000180 CIA DE SANEAMENTO BÁSICO DO ESTADO DE SÃO PAULO... Operação e Manutenção do Sistema Municipal de E...      1.260563e+08  \n",
       "01920177000764 COMERCIAL MILANO BRASIL LTDA                       Alimentação Escolar                                     1.240951e+08  \n",
       "00000000999962 FOLHA DE PAGAMENTO _ EXECUTIVO                     Ações Complementares do Sistema Municipal de En...      1.073501e+08  \n",
       "02183750000171 BASE SISTEMA SERVIÇOS DE ADMINISTRAÇÃO E COMERC... Alimentação Escolar                                     7.729509e+07  \n",
       "61695227000193 ELETROPAULO METROPOLITANA ELETRICIDADE DE SÃO P... Operação e Manutenção do Sistema Municipal de E...      6.987071e+07  \n",
       "53818191000160 SOCIEDADE BENEFICIENTE EQUILIBRIO DE INTERLAGOS    Operação e Manutenção de CEIs e Creches da rede...      6.798499e+07  "
      ]
     },
     "execution_count": 46,
     "metadata": {},
     "output_type": "execute_result"
    }
   ],
   "source": [
    "despesas.head(15)"
   ]
  },
  {
   "cell_type": "markdown",
   "metadata": {},
   "source": [
    "#### Fontes de recursos\n",
    "\n",
    "Agrupamento dos empenhos por fonte de recursos:"
   ]
  },
  {
   "cell_type": "code",
   "execution_count": 47,
   "metadata": {
    "collapsed": true
   },
   "outputs": [],
   "source": [
    "fonte = pd.pivot_table(df_empenhos_serie, \n",
    "                       values=['valLiquidado', 'valPagoExercicio'], \n",
    "                       index=['txtDescricaoFonteRecurso'], \n",
    "                       aggfunc=np.sum).sort_values('valPagoExercicio', axis=0, ascending=False, inplace=False, kind='quicksort', na_position='last')"
   ]
  },
  {
   "cell_type": "code",
   "execution_count": 48,
   "metadata": {},
   "outputs": [
    {
     "data": {
      "text/html": [
       "<div>\n",
       "<style>\n",
       "    .dataframe thead tr:only-child th {\n",
       "        text-align: right;\n",
       "    }\n",
       "\n",
       "    .dataframe thead th {\n",
       "        text-align: left;\n",
       "    }\n",
       "\n",
       "    .dataframe tbody tr th {\n",
       "        vertical-align: top;\n",
       "    }\n",
       "</style>\n",
       "<table border=\"1\" class=\"dataframe\">\n",
       "  <thead>\n",
       "    <tr style=\"text-align: right;\">\n",
       "      <th></th>\n",
       "      <th>valLiquidado</th>\n",
       "      <th>valPagoExercicio</th>\n",
       "    </tr>\n",
       "    <tr>\n",
       "      <th>txtDescricaoFonteRecurso</th>\n",
       "      <th></th>\n",
       "      <th></th>\n",
       "    </tr>\n",
       "  </thead>\n",
       "  <tbody>\n",
       "    <tr>\n",
       "      <th>Tesouro Municipal</th>\n",
       "      <td>1.153491e+10</td>\n",
       "      <td>1.148541e+10</td>\n",
       "    </tr>\n",
       "    <tr>\n",
       "      <th>Fundo Constitucional da Educação</th>\n",
       "      <td>7.336578e+09</td>\n",
       "      <td>7.336578e+09</td>\n",
       "    </tr>\n",
       "    <tr>\n",
       "      <th>Transferências Federais</th>\n",
       "      <td>1.215773e+09</td>\n",
       "      <td>1.201293e+09</td>\n",
       "    </tr>\n",
       "    <tr>\n",
       "      <th>Transferências Estaduais</th>\n",
       "      <td>2.292476e+07</td>\n",
       "      <td>2.292476e+07</td>\n",
       "    </tr>\n",
       "    <tr>\n",
       "      <th>Outras Fontes</th>\n",
       "      <td>1.656644e+07</td>\n",
       "      <td>1.656644e+07</td>\n",
       "    </tr>\n",
       "  </tbody>\n",
       "</table>\n",
       "</div>"
      ],
      "text/plain": [
       "                                  valLiquidado  valPagoExercicio\n",
       "txtDescricaoFonteRecurso                                        \n",
       "Tesouro Municipal                 1.153491e+10      1.148541e+10\n",
       "Fundo Constitucional da Educação  7.336578e+09      7.336578e+09\n",
       "Transferências Federais           1.215773e+09      1.201293e+09\n",
       "Transferências Estaduais          2.292476e+07      2.292476e+07\n",
       "Outras Fontes                     1.656644e+07      1.656644e+07"
      ]
     },
     "execution_count": 48,
     "metadata": {},
     "output_type": "execute_result"
    }
   ],
   "source": [
    "fonte"
   ]
  },
  {
   "cell_type": "markdown",
   "metadata": {},
   "source": [
    "## Passo 4. Quer salvar um csv?"
   ]
  },
  {
   "cell_type": "markdown",
   "metadata": {},
   "source": [
    "O objetivo deste tutorial não era fazer uma análise exaustiva da base, mas apenas mostrar o que é possível a partir do consumo da API. Você também pode salvar toda a base de empenhos num arquivo .csv e trabalhar no seu Excel (super te entendo). O Pandas também ajuda nisso! Assim:\n"
   ]
  },
  {
   "cell_type": "code",
   "execution_count": 50,
   "metadata": {
    "collapsed": true
   },
   "outputs": [],
   "source": [
    "df_empenhos_serie.to_csv('serie_empenhos.csv')"
   ]
  },
  {
   "cell_type": "markdown",
   "metadata": {},
   "source": [
    "Pronto, seu arquivo está lá salvo no mesmo diretório deste jupyter notebook! "
   ]
  }
 ],
 "metadata": {
  "kernelspec": {
   "display_name": "Python 3",
   "language": "python",
   "name": "python3"
  },
  "language_info": {
   "codemirror_mode": {
    "name": "ipython",
    "version": 3
   },
   "file_extension": ".py",
   "mimetype": "text/x-python",
   "name": "python",
   "nbconvert_exporter": "python",
   "pygments_lexer": "ipython3",
   "version": "3.6.3"
  }
 },
 "nbformat": 4,
 "nbformat_minor": 2
}
